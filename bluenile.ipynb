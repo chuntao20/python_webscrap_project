{
 "cells": [
  {
   "cell_type": "code",
   "execution_count": 100,
   "metadata": {},
   "outputs": [],
   "source": [
    "from selenium import webdriver\n",
    "from selenium.webdriver.common.by import By\n",
    "from selenium.webdriver.support.ui import WebDriverWait\n",
    "from selenium.webdriver.support import expected_conditions as EC\n",
    "import csv\n",
    "import re\n",
    "import time"
   ]
  },
  {
   "cell_type": "code",
   "execution_count": 178,
   "metadata": {},
   "outputs": [],
   "source": [
    "driver = webdriver.Chrome(r'C:\\Users\\Chun\\chromedriver_win32 (1)\\chromedriver.exe')\n",
    "driver.get(\"https://www.bluenile.com/build-your-own-ring/settings\")\n",
    "\n",
    "SCROLL_PAUSE_TIME = 0.5\n",
    "\n",
    "\n",
    "while True:\n",
    "\n",
    "    # Get scroll height\n",
    "    ### This is the difference. Moving this *inside* the loop\n",
    "    ### means that it checks if scrollTo is still scrolling \n",
    "    last_height = driver.execute_script(\"return document.body.scrollHeight\")\n",
    "\n",
    "    # Scroll down to bottom\n",
    "    driver.execute_script(\"window.scrollTo(0, document.body.scrollHeight);\")\n",
    "\n",
    "    # Wait to load page\n",
    "    time.sleep(SCROLL_PAUSE_TIME)\n",
    "\n",
    "    # Calculate new scroll height and compare with last scroll height\n",
    "    new_height = driver.execute_script(\"return document.body.scrollHeight\")\n",
    "    if new_height == last_height:\n",
    "\n",
    "        # try again (can be removed)\n",
    "        driver.execute_script(\"window.scrollTo(0, document.body.scrollHeight);\")\n",
    "\n",
    "        # Wait to load page\n",
    "        time.sleep(SCROLL_PAUSE_TIME)\n",
    "\n",
    "        # Calculate new scroll height and compare with last scroll height\n",
    "        new_height = driver.execute_script(\"return document.body.scrollHeight\")\n",
    "\n",
    "        # check if the page height has remained the same\n",
    "        if new_height == last_height:\n",
    "            # if so, you are done\n",
    "            break\n",
    "        # if not, move on to the next loop\n",
    "        else:\n",
    "            last_height = new_height\n",
    "            continue"
   ]
  },
  {
   "cell_type": "code",
   "execution_count": 30,
   "metadata": {},
   "outputs": [],
   "source": [
    "links = driver.find_elements_by_class_name('related-metals')\n",
    "\n",
    "link_list = []\n",
    "for link in links:\n",
    "    item_link = link.get_attribute(\"href\")\n",
    "    link_list.append(item_link)"
   ]
  },
  {
   "cell_type": "code",
   "execution_count": 31,
   "metadata": {},
   "outputs": [],
   "source": [
    "# for link in link_list:\n",
    "#     link.click()\n",
    "\n",
    "link1 = link_list[0]\n",
    "driver.get(link1)"
   ]
  },
  {
   "cell_type": "markdown",
   "metadata": {},
   "source": [
    "### 1.style"
   ]
  },
  {
   "cell_type": "code",
   "execution_count": 32,
   "metadata": {},
   "outputs": [
    {
     "name": "stdout",
     "output_type": "stream",
     "text": [
      "Petite Twist Diamond Engagement Ring\n"
     ]
    }
   ],
   "source": [
    "style = driver.find_element_by_class_name('title').text\n",
    "print(style)"
   ]
  },
  {
   "cell_type": "markdown",
   "metadata": {},
   "source": [
    "### 2.metal\n",
    "### 3.side stone weight"
   ]
  },
  {
   "cell_type": "code",
   "execution_count": 33,
   "metadata": {},
   "outputs": [
    {
     "name": "stdout",
     "output_type": "stream",
     "text": [
      "14k White Gold (1/10 ct. tw.)\n"
     ]
    }
   ],
   "source": [
    "band = driver.find_element_by_class_name('subtitle').text\n",
    "print(band)"
   ]
  },
  {
   "cell_type": "code",
   "execution_count": 167,
   "metadata": {},
   "outputs": [
    {
     "name": "stdout",
     "output_type": "stream",
     "text": [
      "Platinum\n",
      "0\n"
     ]
    }
   ],
   "source": [
    "s = re.search('(.+)\\((.*)ct. tw.\\)',band)\n",
    "try:\n",
    "    weight = s.group(2)\n",
    "    a,b = re.search('(\\d)\\/(\\d+)', weight).groups()\n",
    "    side_weight = int(a)/int(b)\n",
    "except:\n",
    "    side_weight = 0\n",
    "try:    \n",
    "    metal = s.group(1)\n",
    "except: metal = band\n",
    "print(metal)\n",
    "print(side_weight)"
   ]
  },
  {
   "cell_type": "markdown",
   "metadata": {},
   "source": [
    "### 4. price"
   ]
  },
  {
   "cell_type": "code",
   "execution_count": 184,
   "metadata": {},
   "outputs": [],
   "source": [
    "# price = driver.find_element_by_class_name('price-label').text\n",
    "# price = int(price.replace('$','').replace(',',''))\n",
    "# price\n",
    "for i in range(0):\n",
    "    print(i)"
   ]
  },
  {
   "cell_type": "markdown",
   "metadata": {},
   "source": [
    "### 5.avearge rating"
   ]
  },
  {
   "cell_type": "code",
   "execution_count": 177,
   "metadata": {},
   "outputs": [
    {
     "data": {
      "text/plain": [
       "4.8"
      ]
     },
     "execution_count": 177,
     "metadata": {},
     "output_type": "execute_result"
    }
   ],
   "source": [
    "driver.get('https://www.bluenile.com/build-your-own-ring/petite-pave-ring-platinum_17875')\n",
    "time.sleep(1)\n",
    "avg_rating = driver.find_element_by_xpath('//div[@class=\"bottom-line-items\"]/span[@class=\"avg-score font-color-gray-darker\"]').text\n",
    "avg_rating = float(avg_rating)\n",
    "avg_rating"
   ]
  },
  {
   "cell_type": "markdown",
   "metadata": {},
   "source": [
    "### 6.numer of reviews"
   ]
  },
  {
   "cell_type": "code",
   "execution_count": 181,
   "metadata": {},
   "outputs": [
    {
     "data": {
      "text/plain": [
       "'1 review'"
      ]
     },
     "execution_count": 181,
     "metadata": {},
     "output_type": "execute_result"
    }
   ],
   "source": [
    "driver.get('https://www.bluenile.com/build-your-own-ring/split-shank-plain-pave-diamond-engagement-ring-14k-rose-gold_77808')\n",
    "num_review = driver.find_element_by_class_name('rating-values').text\n",
    "num_review = int(re.search('(\\d+) reviews?',num_review).group(1))\n",
    "num_review"
   ]
  },
  {
   "cell_type": "markdown",
   "metadata": {},
   "source": [
    "## retrive all the reviews\n",
    "\n",
    "### go through all review pages"
   ]
  },
  {
   "cell_type": "markdown",
   "metadata": {},
   "source": [
    "# Alex Help"
   ]
  },
  {
   "cell_type": "code",
   "execution_count": 192,
   "metadata": {},
   "outputs": [
    {
     "name": "stdout",
     "output_type": "stream",
     "text": [
      "18\n",
      "{'product_name': 'Petite Twist Diamond Engagement Ring', 'avg_rating': 4.8, 'side_stone_weight': 0.1, 'metal': '14k White Gold ', 'user_name': 'Noah S.', 'verified': 'Verified Buyer', 'stars': 5, 'date': '07/23/20', 'location': 'Palmyra, USA', 'expert_consulted': 'yes', 'recommended': 'Yes', 'why_buy': 'Quality'}\n",
      "{'product_name': 'Petite Twist Diamond Engagement Ring', 'avg_rating': 4.8, 'side_stone_weight': 0.1, 'metal': '14k White Gold ', 'user_name': 'Ray W.', 'verified': 'Verified Buyer', 'stars': 5, 'date': '07/14/20', 'location': 'Fitchburg, USA', 'expert_consulted': 'yes', 'recommended': 'Yes', 'why_buy': 'Value'}\n",
      "{'product_name': 'Petite Twist Diamond Engagement Ring', 'avg_rating': 4.8, 'side_stone_weight': 0.1, 'metal': '14k White Gold ', 'user_name': 'JONATHAN T.', 'verified': 'Verified Buyer', 'stars': 5, 'date': '07/14/20', 'location': 'SEVERANCE, USA', 'expert_consulted': 'yes', 'recommended': 'Yes', 'why_buy': 'Value'}\n",
      "{'product_name': 'Petite Twist Diamond Engagement Ring', 'avg_rating': 4.8, 'side_stone_weight': 0.1, 'metal': '14k White Gold ', 'user_name': 'Zack C.', 'verified': 'Verified Buyer', 'stars': 5, 'date': '07/13/20', 'location': 'Parker, USA', 'expert_consulted': 'yes', 'recommended': 'Yes', 'why_buy': 'Value'}\n",
      "{'product_name': 'Petite Twist Diamond Engagement Ring', 'avg_rating': 4.8, 'side_stone_weight': 0.1, 'metal': '14k White Gold ', 'user_name': 'tim p.', 'verified': 'Verified Buyer', 'stars': 5, 'date': '07/01/20', 'location': 'Rohester, USA', 'expert_consulted': 'yes', 'recommended': 'Yes', 'why_buy': 'Quality'}\n",
      "{'product_name': 'Petite Twist Diamond Engagement Ring', 'avg_rating': 4.8, 'side_stone_weight': 0.1, 'metal': '14k White Gold ', 'user_name': 'Emmanuel P.', 'verified': 'Verified Buyer', 'stars': 5, 'date': '06/30/20', 'location': 'ELIZABETH, USA', 'expert_consulted': 'yes', 'recommended': 'Yes', 'why_buy': 'Quality'}\n",
      "{'product_name': 'Petite Twist Diamond Engagement Ring', 'avg_rating': 4.8, 'side_stone_weight': 0.1, 'metal': '14k White Gold ', 'user_name': 'Curtis M.', 'verified': 'Verified Buyer', 'stars': 5, 'date': '06/29/20', 'location': 'Hamilton, USA', 'expert_consulted': 'yes', 'recommended': 'Yes', 'why_buy': 'GIA graded diamonds'}\n",
      "{'product_name': 'Petite Twist Diamond Engagement Ring', 'avg_rating': 4.8, 'side_stone_weight': 0.1, 'metal': '14k White Gold ', 'user_name': 'Sherman E.', 'verified': 'Verified Buyer', 'stars': 5, 'date': '06/25/20', 'location': 'JERSEY CITY, USA', 'expert_consulted': 'yes', 'recommended': 'Yes', 'why_buy': 'Value'}\n",
      "{'product_name': 'Petite Twist Diamond Engagement Ring', 'avg_rating': 4.8, 'side_stone_weight': 0.1, 'metal': '14k White Gold ', 'user_name': 'Darroch M.', 'verified': 'Verified Buyer', 'stars': 5, 'date': '06/18/20', 'location': None, 'expert_consulted': None, 'recommended': 'Yes', 'why_buy': 'Selection'}\n",
      "{'product_name': 'Petite Twist Diamond Engagement Ring', 'avg_rating': 4.8, 'side_stone_weight': 0.1, 'metal': '14k White Gold ', 'user_name': 'Stefan T.', 'verified': 'Verified Buyer', 'stars': 5, 'date': '06/07/20', 'location': 'MONROE, USA', 'expert_consulted': 'yes', 'recommended': 'Yes', 'why_buy': 'Other'}\n",
      "{'product_name': 'Petite Twist Diamond Engagement Ring', 'avg_rating': 4.8, 'side_stone_weight': 0.1, 'metal': '14k White Gold ', 'user_name': 'Colin S.', 'verified': 'Verified Buyer', 'stars': 5, 'date': '06/04/20', 'location': 'Quarryville, USA', 'expert_consulted': 'yes', 'recommended': 'Yes', 'why_buy': 'Quality'}\n",
      "{'product_name': 'Petite Twist Diamond Engagement Ring', 'avg_rating': 4.8, 'side_stone_weight': 0.1, 'metal': '14k White Gold ', 'user_name': 'William F.', 'verified': 'Verified Buyer', 'stars': 5, 'date': '06/01/20', 'location': 'MOUNT EPHRAIM, USA', 'expert_consulted': 'yes', 'recommended': 'Yes', 'why_buy': 'Value'}\n",
      "{'product_name': 'Petite Twist Diamond Engagement Ring', 'avg_rating': 4.8, 'side_stone_weight': 0.1, 'metal': '14k White Gold ', 'user_name': 'Kevin S.', 'verified': 'Verified Buyer', 'stars': 5, 'date': '05/27/20', 'location': 'Yucca Valley, USA', 'expert_consulted': 'yes', 'recommended': 'Yes', 'why_buy': 'Quality'}\n",
      "{'product_name': 'Petite Twist Diamond Engagement Ring', 'avg_rating': 4.8, 'side_stone_weight': 0.1, 'metal': '14k White Gold ', 'user_name': 'Roger N.', 'verified': 'Verified Buyer', 'stars': 5, 'date': '05/06/20', 'location': 'Farmington, USA', 'expert_consulted': 'yes', 'recommended': 'Yes', 'why_buy': 'Quality'}\n",
      "{'product_name': 'Petite Twist Diamond Engagement Ring', 'avg_rating': 4.8, 'side_stone_weight': 0.1, 'metal': '14k White Gold ', 'user_name': 'Frank R.', 'verified': 'Verified Buyer', 'stars': 5, 'date': '04/24/20', 'location': 'EMERSON, USA', 'expert_consulted': 'yes', 'recommended': 'Yes', 'why_buy': 'Selection'}\n",
      "17\n",
      "{'product_name': 'Petite Twist Diamond Engagement Ring', 'avg_rating': 4.8, 'side_stone_weight': 0.1, 'metal': '14k White Gold ', 'user_name': 'Robert O.', 'verified': 'Verified Buyer', 'stars': 5, 'date': '04/20/20', 'location': 'Santa Barbara, USA', 'expert_consulted': 'yes', 'recommended': 'Yes', 'why_buy': 'Value'}\n",
      "{'product_name': 'Petite Twist Diamond Engagement Ring', 'avg_rating': 4.8, 'side_stone_weight': 0.1, 'metal': '14k White Gold ', 'user_name': 'Jordan R.', 'verified': 'Verified Buyer', 'stars': 5, 'date': '04/11/20', 'location': 'Bay City, USA', 'expert_consulted': 'yes', 'recommended': 'Yes', 'why_buy': 'Quality'}\n",
      "{'product_name': 'Petite Twist Diamond Engagement Ring', 'avg_rating': 4.8, 'side_stone_weight': 0.1, 'metal': '14k White Gold ', 'user_name': 'Jared S.', 'verified': 'Verified Buyer', 'stars': 5, 'date': '04/03/20', 'location': 'Grand Rapids, USA', 'expert_consulted': 'no', 'recommended': 'Yes', 'why_buy': 'Quality'}\n",
      "{'product_name': 'Petite Twist Diamond Engagement Ring', 'avg_rating': 4.8, 'side_stone_weight': 0.1, 'metal': '14k White Gold ', 'user_name': 'gayathri m.', 'verified': 'Verified Buyer', 'stars': 5, 'date': '03/27/20', 'location': 'PHILADELPHIA, USA', 'expert_consulted': 'yes', 'recommended': 'Yes', 'why_buy': 'Quality'}\n",
      "{'product_name': 'Petite Twist Diamond Engagement Ring', 'avg_rating': 4.8, 'side_stone_weight': 0.1, 'metal': '14k White Gold ', 'user_name': 'Matt L.', 'verified': 'Verified Buyer', 'stars': 5, 'date': '03/17/20', 'location': 'Batavia, USA', 'expert_consulted': 'no', 'recommended': 'Yes', 'why_buy': 'Selection'}\n",
      "{'product_name': 'Petite Twist Diamond Engagement Ring', 'avg_rating': 4.8, 'side_stone_weight': 0.1, 'metal': '14k White Gold ', 'user_name': 'Kristopher B.', 'verified': 'Verified Buyer', 'stars': 5, 'date': '03/15/20', 'location': 'ARNOLD, USA', 'expert_consulted': 'yes', 'recommended': 'Yes', 'why_buy': 'Quality'}\n",
      "{'product_name': 'Petite Twist Diamond Engagement Ring', 'avg_rating': 4.8, 'side_stone_weight': 0.1, 'metal': '14k White Gold ', 'user_name': 'Imad E.', 'verified': 'Verified Buyer', 'stars': 5, 'date': '03/12/20', 'location': None, 'expert_consulted': None, 'recommended': 'Yes', 'why_buy': 'Quality'}\n",
      "{'product_name': 'Petite Twist Diamond Engagement Ring', 'avg_rating': 4.8, 'side_stone_weight': 0.1, 'metal': '14k White Gold ', 'user_name': 'Steven P.', 'verified': 'Verified Buyer', 'stars': 5, 'date': '03/03/20', 'location': 'HORNELL, USA', 'expert_consulted': 'yes', 'recommended': 'Yes', 'why_buy': 'Value'}\n",
      "{'product_name': 'Petite Twist Diamond Engagement Ring', 'avg_rating': 4.8, 'side_stone_weight': 0.1, 'metal': '14k White Gold ', 'user_name': 'Ryan T.', 'verified': 'Verified Buyer', 'stars': 5, 'date': '02/27/20', 'location': 'San Francisco, USA', 'expert_consulted': 'yes', 'recommended': 'Yes', 'why_buy': 'Quality'}\n",
      "{'product_name': 'Petite Twist Diamond Engagement Ring', 'avg_rating': 4.8, 'side_stone_weight': 0.1, 'metal': '14k White Gold ', 'user_name': 'Nicholas B.', 'verified': 'Verified Buyer', 'stars': 5, 'date': '02/26/20', 'location': 'ESPERANCE, USA', 'expert_consulted': 'yes', 'recommended': 'Yes', 'why_buy': 'Value'}\n",
      "{'product_name': 'Petite Twist Diamond Engagement Ring', 'avg_rating': 4.8, 'side_stone_weight': 0.1, 'metal': '14k White Gold ', 'user_name': 'Kevin M.', 'verified': 'Verified Buyer', 'stars': 5, 'date': '02/24/20', 'location': None, 'expert_consulted': None, 'recommended': 'Yes', 'why_buy': 'Quality'}\n"
     ]
    },
    {
     "name": "stdout",
     "output_type": "stream",
     "text": [
      "{'product_name': 'Petite Twist Diamond Engagement Ring', 'avg_rating': 4.8, 'side_stone_weight': 0.1, 'metal': '14k White Gold ', 'user_name': 'MICHAEL Z.', 'verified': 'Verified Buyer', 'stars': 5, 'date': '02/12/20', 'location': 'MALTA, USA', 'expert_consulted': 'yes', 'recommended': 'Yes', 'why_buy': 'Quality'}\n",
      "{'product_name': 'Petite Twist Diamond Engagement Ring', 'avg_rating': 4.8, 'side_stone_weight': 0.1, 'metal': '14k White Gold ', 'user_name': 'Stephen T.', 'verified': 'Verified Buyer', 'stars': 5, 'date': '02/10/20', 'location': 'CINCINNATI, USA', 'expert_consulted': 'no', 'recommended': 'Yes', 'why_buy': 'Quality'}\n",
      "{'product_name': 'Petite Twist Diamond Engagement Ring', 'avg_rating': 4.8, 'side_stone_weight': 0.1, 'metal': '14k White Gold ', 'user_name': 'Marcelo N.', 'verified': 'Verified Buyer', 'stars': 3, 'date': '02/10/20', 'location': 'HOUSTON, USA', 'expert_consulted': 'no', 'recommended': 'No', 'why_buy': 'Quality'}\n",
      "{'product_name': 'Petite Twist Diamond Engagement Ring', 'avg_rating': 4.8, 'side_stone_weight': 0.1, 'metal': '14k White Gold ', 'user_name': 'Randy G.', 'verified': 'Verified Buyer', 'stars': 5, 'date': '02/06/20', 'location': 'monroe, USA', 'expert_consulted': 'no', 'recommended': 'Yes', 'why_buy': 'Selection'}\n",
      "17\n",
      "{'product_name': 'Riviera Pavé Diamond Engagement Ring', 'avg_rating': 4.8, 'side_stone_weight': 0.16666666666666666, 'metal': '14k White Gold ', 'user_name': 'Jason S.', 'verified': 'Verified Buyer', 'stars': 5, 'date': '07/24/20', 'location': 'PONCA CITY, USA', 'expert_consulted': 'yes', 'recommended': 'Yes', 'why_buy': 'Quality'}\n",
      "{'product_name': 'Riviera Pavé Diamond Engagement Ring', 'avg_rating': 4.8, 'side_stone_weight': 0.16666666666666666, 'metal': '14k White Gold ', 'user_name': 'Sharon L.', 'verified': 'Verified Buyer', 'stars': 5, 'date': '07/23/20', 'location': 'Elanora, Australia', 'expert_consulted': 'yes', 'recommended': 'Yes', 'why_buy': 'Value'}\n",
      "{'product_name': 'Riviera Pavé Diamond Engagement Ring', 'avg_rating': 4.8, 'side_stone_weight': 0.16666666666666666, 'metal': '14k White Gold ', 'user_name': 'Jeffrey M.', 'verified': 'Verified Buyer', 'stars': 5, 'date': '07/21/20', 'location': 'LINCOLN PARK, USA', 'expert_consulted': 'yes', 'recommended': 'Yes', 'why_buy': 'Quality'}\n",
      "{'product_name': 'Riviera Pavé Diamond Engagement Ring', 'avg_rating': 4.8, 'side_stone_weight': 0.16666666666666666, 'metal': '14k White Gold ', 'user_name': 'Michael D.', 'verified': 'Verified Buyer', 'stars': 5, 'date': '07/18/20', 'location': 'LINCOLN, USA', 'expert_consulted': 'yes', 'recommended': 'Yes', 'why_buy': 'Quality'}\n",
      "{'product_name': 'Riviera Pavé Diamond Engagement Ring', 'avg_rating': 4.8, 'side_stone_weight': 0.16666666666666666, 'metal': '14k White Gold ', 'user_name': 'Michael S.', 'verified': 'Verified Buyer', 'stars': 5, 'date': '07/16/20', 'location': 'CUMMING, USA', 'expert_consulted': 'yes', 'recommended': 'Yes', 'why_buy': 'Value'}\n",
      "{'product_name': 'Riviera Pavé Diamond Engagement Ring', 'avg_rating': 4.8, 'side_stone_weight': 0.16666666666666666, 'metal': '14k White Gold ', 'user_name': 'Matthew A.', 'verified': 'Verified Buyer', 'stars': 5, 'date': '07/15/20', 'location': 'Wadsworth, USA', 'expert_consulted': 'yes', 'recommended': 'Yes', 'why_buy': 'Quality'}\n",
      "{'product_name': 'Riviera Pavé Diamond Engagement Ring', 'avg_rating': 4.8, 'side_stone_weight': 0.16666666666666666, 'metal': '14k White Gold ', 'user_name': 'Lin S.', 'verified': 'Verified Buyer', 'stars': 5, 'date': '07/15/20', 'location': 'Singapore, Singapore', 'expert_consulted': 'yes', 'recommended': 'Yes', 'why_buy': 'Quality'}\n",
      "{'product_name': 'Riviera Pavé Diamond Engagement Ring', 'avg_rating': 4.8, 'side_stone_weight': 0.16666666666666666, 'metal': '14k White Gold ', 'user_name': 'Cristina D.', 'verified': 'Verified Buyer', 'stars': 5, 'date': '07/11/20', 'location': None, 'expert_consulted': None, 'recommended': 'Yes', 'why_buy': 'GIA graded diamonds'}\n",
      "{'product_name': 'Riviera Pavé Diamond Engagement Ring', 'avg_rating': 4.8, 'side_stone_weight': 0.16666666666666666, 'metal': '14k White Gold ', 'user_name': 'Nick C.', 'verified': 'Verified Buyer', 'stars': 5, 'date': '07/09/20', 'location': 'Kansas City, USA', 'expert_consulted': 'yes', 'recommended': 'Yes', 'why_buy': 'Value'}\n",
      "{'product_name': 'Riviera Pavé Diamond Engagement Ring', 'avg_rating': 4.8, 'side_stone_weight': 0.16666666666666666, 'metal': '14k White Gold ', 'user_name': 'Michael B.', 'verified': 'Verified Buyer', 'stars': 5, 'date': '07/08/20', 'location': 'SOMERVILLE, USA', 'expert_consulted': 'yes', 'recommended': 'Yes', 'why_buy': 'Value'}\n",
      "{'product_name': 'Riviera Pavé Diamond Engagement Ring', 'avg_rating': 4.8, 'side_stone_weight': 0.16666666666666666, 'metal': '14k White Gold ', 'user_name': 'Bradley A.', 'verified': 'Verified Buyer', 'stars': 5, 'date': '07/04/20', 'location': 'Painesville, USA', 'expert_consulted': 'yes', 'recommended': 'Yes', 'why_buy': 'Value'}\n",
      "{'product_name': 'Riviera Pavé Diamond Engagement Ring', 'avg_rating': 4.8, 'side_stone_weight': 0.16666666666666666, 'metal': '14k White Gold ', 'user_name': 'Christopher E.', 'verified': 'Verified Buyer', 'stars': 5, 'date': '07/03/20', 'location': 'FORT GEORGE G MEADE, USA', 'expert_consulted': 'yes', 'recommended': 'Yes', 'why_buy': 'Value'}\n",
      "{'product_name': 'Riviera Pavé Diamond Engagement Ring', 'avg_rating': 4.8, 'side_stone_weight': 0.16666666666666666, 'metal': '14k White Gold ', 'user_name': 'Ryan D.', 'verified': 'Verified Buyer', 'stars': 5, 'date': '07/02/20', 'location': None, 'expert_consulted': None, 'recommended': 'Yes', 'why_buy': 'Other'}\n",
      "{'product_name': 'Riviera Pavé Diamond Engagement Ring', 'avg_rating': 4.8, 'side_stone_weight': 0.16666666666666666, 'metal': '14k White Gold ', 'user_name': 'Samuel K.', 'verified': 'Verified Buyer', 'stars': 5, 'date': '06/22/20', 'location': 'Singapore, Singapore', 'expert_consulted': 'yes', 'recommended': 'Yes', 'why_buy': 'Value'}\n",
      "{'product_name': 'Riviera Pavé Diamond Engagement Ring', 'avg_rating': 4.8, 'side_stone_weight': 0.16666666666666666, 'metal': '14k White Gold ', 'user_name': 'Kyle P.', 'verified': 'Verified Buyer', 'stars': 5, 'date': '06/22/20', 'location': 'TUCKERTON, USA', 'expert_consulted': 'yes', 'recommended': 'Yes', 'why_buy': 'Selection'}\n",
      "18\n",
      "{'product_name': 'Riviera Pavé Diamond Engagement Ring', 'avg_rating': 4.8, 'side_stone_weight': 0.16666666666666666, 'metal': '14k White Gold ', 'user_name': 'David L.', 'verified': 'Verified Buyer', 'stars': 5, 'date': '06/21/20', 'location': 'CLOVIS, USA', 'expert_consulted': 'yes', 'recommended': 'Yes', 'why_buy': 'Quality'}\n",
      "{'product_name': 'Riviera Pavé Diamond Engagement Ring', 'avg_rating': 4.8, 'side_stone_weight': 0.16666666666666666, 'metal': '14k White Gold ', 'user_name': 'Josh N.', 'verified': 'Verified Buyer', 'stars': 5, 'date': '06/17/20', 'location': 'Philadelphia, USA', 'expert_consulted': 'yes', 'recommended': 'Yes', 'why_buy': 'Quality'}\n",
      "{'product_name': 'Riviera Pavé Diamond Engagement Ring', 'avg_rating': 4.8, 'side_stone_weight': 0.16666666666666666, 'metal': '14k White Gold ', 'user_name': 'Paul M.', 'verified': 'Verified Buyer', 'stars': 5, 'date': '06/12/20', 'location': None, 'expert_consulted': None, 'recommended': 'Yes', 'why_buy': 'Value'}\n",
      "{'product_name': 'Riviera Pavé Diamond Engagement Ring', 'avg_rating': 4.8, 'side_stone_weight': 0.16666666666666666, 'metal': '14k White Gold ', 'user_name': 'Jake K.', 'verified': 'Verified Buyer', 'stars': 5, 'date': '06/06/20', 'location': 'Lake Hopatcong, USA', 'expert_consulted': 'yes', 'recommended': 'Yes', 'why_buy': 'Value'}\n",
      "{'product_name': 'Riviera Pavé Diamond Engagement Ring', 'avg_rating': 4.8, 'side_stone_weight': 0.16666666666666666, 'metal': '14k White Gold ', 'user_name': 'TYLER B.', 'verified': 'Verified Buyer', 'stars': 5, 'date': '06/06/20', 'location': 'HOUSTON, USA', 'expert_consulted': 'yes', 'recommended': 'Yes', 'why_buy': 'Quality'}\n",
      "{'product_name': 'Riviera Pavé Diamond Engagement Ring', 'avg_rating': 4.8, 'side_stone_weight': 0.16666666666666666, 'metal': '14k White Gold ', 'user_name': 'Trey M.', 'verified': 'Verified Buyer', 'stars': 5, 'date': '05/30/20', 'location': 'Roscommon, USA', 'expert_consulted': 'yes', 'recommended': 'Yes', 'why_buy': 'Selection'}\n"
     ]
    },
    {
     "name": "stdout",
     "output_type": "stream",
     "text": [
      "{'product_name': 'Riviera Pavé Diamond Engagement Ring', 'avg_rating': 4.8, 'side_stone_weight': 0.16666666666666666, 'metal': '14k White Gold ', 'user_name': 'Yanyun C.', 'verified': 'Verified Buyer', 'stars': 5, 'date': '05/29/20', 'location': 'Boston, USA', 'expert_consulted': 'yes', 'recommended': 'Yes', 'why_buy': 'GIA graded diamonds'}\n",
      "{'product_name': 'Riviera Pavé Diamond Engagement Ring', 'avg_rating': 4.8, 'side_stone_weight': 0.16666666666666666, 'metal': '14k White Gold ', 'user_name': 'ROBERT k.', 'verified': 'Verified Buyer', 'stars': 5, 'date': '05/28/20', 'location': 'Brick, USA', 'expert_consulted': 'yes', 'recommended': 'Yes', 'why_buy': 'Selection'}\n",
      "{'product_name': 'Riviera Pavé Diamond Engagement Ring', 'avg_rating': 4.8, 'side_stone_weight': 0.16666666666666666, 'metal': '14k White Gold ', 'user_name': 'Vincent H.', 'verified': 'Verified Buyer', 'stars': 5, 'date': '05/26/20', 'location': 'San Gabriel, USA', 'expert_consulted': 'yes', 'recommended': 'Yes', 'why_buy': 'Quality'}\n",
      "{'product_name': 'Riviera Pavé Diamond Engagement Ring', 'avg_rating': 4.8, 'side_stone_weight': 0.16666666666666666, 'metal': '14k White Gold ', 'user_name': 'Yousef A.', 'verified': 'Verified Buyer', 'stars': 5, 'date': '05/22/20', 'location': 'SANTA ANA, USA', 'expert_consulted': 'yes', 'recommended': 'Yes', 'why_buy': 'Value'}\n",
      "{'product_name': 'Riviera Pavé Diamond Engagement Ring', 'avg_rating': 4.8, 'side_stone_weight': 0.16666666666666666, 'metal': '14k White Gold ', 'user_name': 'Brett S.', 'verified': 'Verified Buyer', 'stars': 5, 'date': '05/22/20', 'location': 'Valley City, USA', 'expert_consulted': 'yes', 'recommended': 'Yes', 'why_buy': 'Quality'}\n",
      "{'product_name': 'Riviera Pavé Diamond Engagement Ring', 'avg_rating': 4.8, 'side_stone_weight': 0.16666666666666666, 'metal': '14k White Gold ', 'user_name': 'Alpeshkumar P.', 'verified': 'Verified Buyer', 'stars': 5, 'date': '05/21/20', 'location': None, 'expert_consulted': None, 'recommended': 'Yes', 'why_buy': 'Quality'}\n",
      "{'product_name': 'Riviera Pavé Diamond Engagement Ring', 'avg_rating': 4.8, 'side_stone_weight': 0.16666666666666666, 'metal': '14k White Gold ', 'user_name': 'Mark M.', 'verified': 'Verified Buyer', 'stars': 5, 'date': '05/19/20', 'location': 'Tyler, USA', 'expert_consulted': 'yes', 'recommended': 'Yes', 'why_buy': 'Quality'}\n",
      "{'product_name': 'Riviera Pavé Diamond Engagement Ring', 'avg_rating': 4.8, 'side_stone_weight': 0.16666666666666666, 'metal': '14k White Gold ', 'user_name': 'Connor C.', 'verified': 'Verified Buyer', 'stars': 4, 'date': '05/16/20', 'location': 'Grand haven, USA', 'expert_consulted': 'yes', 'recommended': 'Yes', 'why_buy': 'Value'}\n",
      "{'product_name': 'Riviera Pavé Diamond Engagement Ring', 'avg_rating': 4.8, 'side_stone_weight': 0.16666666666666666, 'metal': '14k White Gold ', 'user_name': 'Robert T.', 'verified': 'Verified Buyer', 'stars': 5, 'date': '05/12/20', 'location': 'Maple Valley, USA', 'expert_consulted': 'yes', 'recommended': 'Yes', 'why_buy': 'Selection'}\n",
      "21\n",
      "{'product_name': 'Riviera Pavé Diamond Engagement Ring', 'avg_rating': 4.7, 'side_stone_weight': 0.16666666666666666, 'metal': 'Platinum ', 'user_name': 'David G.', 'verified': 'Verified Buyer', 'stars': 5, 'date': '07/23/20', 'location': None, 'expert_consulted': None, 'recommended': 'Yes', 'why_buy': 'Value'}\n",
      "{'product_name': 'Riviera Pavé Diamond Engagement Ring', 'avg_rating': 4.7, 'side_stone_weight': 0.16666666666666666, 'metal': 'Platinum ', 'user_name': 'Gregoire L.', 'verified': 'Verified Buyer', 'stars': 5, 'date': '07/14/20', 'location': 'San Bruno, USA', 'expert_consulted': 'yes', 'recommended': 'Yes', 'why_buy': 'Education tips'}\n",
      "{'product_name': 'Riviera Pavé Diamond Engagement Ring', 'avg_rating': 4.7, 'side_stone_weight': 0.16666666666666666, 'metal': 'Platinum ', 'user_name': 'Kevin Z.', 'verified': 'Verified Buyer', 'stars': 5, 'date': '07/13/20', 'location': 'BROOKLYN, USA', 'expert_consulted': 'yes', 'recommended': 'Yes', 'why_buy': 'Selection'}\n",
      "{'product_name': 'Riviera Pavé Diamond Engagement Ring', 'avg_rating': 4.7, 'side_stone_weight': 0.16666666666666666, 'metal': 'Platinum ', 'user_name': 'raphael m.', 'verified': 'Verified Buyer', 'stars': 5, 'date': '07/07/20', 'location': 'Terrell hills, USA', 'expert_consulted': 'yes', 'recommended': 'Yes', 'why_buy': 'Value'}\n",
      "{'product_name': 'Riviera Pavé Diamond Engagement Ring', 'avg_rating': 4.7, 'side_stone_weight': 0.16666666666666666, 'metal': 'Platinum ', 'user_name': 'Campbell R.', 'verified': 'Verified Buyer', 'stars': 5, 'date': '06/24/20', 'location': 'Willis, USA', 'expert_consulted': 'yes', 'recommended': 'Yes', 'why_buy': 'Value'}\n",
      "{'product_name': 'Riviera Pavé Diamond Engagement Ring', 'avg_rating': 4.7, 'side_stone_weight': 0.16666666666666666, 'metal': 'Platinum ', 'user_name': 'Adam G.', 'verified': 'Verified Buyer', 'stars': 5, 'date': '06/17/20', 'location': None, 'expert_consulted': None, 'recommended': 'Yes', 'why_buy': 'Selection'}\n",
      "{'product_name': 'Riviera Pavé Diamond Engagement Ring', 'avg_rating': 4.7, 'side_stone_weight': 0.16666666666666666, 'metal': 'Platinum ', 'user_name': 'William J.', 'verified': 'Verified Buyer', 'stars': 5, 'date': '06/15/20', 'location': 'Watsonville, USA', 'expert_consulted': 'yes', 'recommended': 'Yes', 'why_buy': 'Value'}\n",
      "{'product_name': 'Riviera Pavé Diamond Engagement Ring', 'avg_rating': 4.7, 'side_stone_weight': 0.16666666666666666, 'metal': 'Platinum ', 'user_name': 'Kevin F.', 'verified': 'Verified Buyer', 'stars': 5, 'date': '05/29/20', 'location': 'Brownsburg, USA', 'expert_consulted': 'yes', 'recommended': 'Yes', 'why_buy': 'Selection'}\n",
      "{'product_name': 'Riviera Pavé Diamond Engagement Ring', 'avg_rating': 4.7, 'side_stone_weight': 0.16666666666666666, 'metal': 'Platinum ', 'user_name': 'Luis T.', 'verified': 'Verified Buyer', 'stars': 5, 'date': '05/07/20', 'location': 'Phoenix, USA', 'expert_consulted': 'yes', 'recommended': 'Yes', 'why_buy': 'Selection'}\n",
      "{'product_name': 'Riviera Pavé Diamond Engagement Ring', 'avg_rating': 4.7, 'side_stone_weight': 0.16666666666666666, 'metal': 'Platinum ', 'user_name': 'Ashley F.', 'verified': 'Verified Buyer', 'stars': 5, 'date': '03/15/20', 'location': None, 'expert_consulted': None, 'recommended': 'Yes', 'why_buy': 'Selection'}\n",
      "{'product_name': 'Riviera Pavé Diamond Engagement Ring', 'avg_rating': 4.7, 'side_stone_weight': 0.16666666666666666, 'metal': 'Platinum ', 'user_name': 'RILEY C.', 'verified': 'Verified Buyer', 'stars': 5, 'date': '03/09/20', 'location': 'SAN FRANCISCO, USA', 'expert_consulted': 'yes', 'recommended': 'Yes', 'why_buy': 'Selection'}\n",
      "{'product_name': 'Riviera Pavé Diamond Engagement Ring', 'avg_rating': 4.7, 'side_stone_weight': 0.16666666666666666, 'metal': 'Platinum ', 'user_name': 'Yi Y.', 'verified': 'Verified Buyer', 'stars': 5, 'date': '01/27/20', 'location': None, 'expert_consulted': None, 'recommended': 'Yes', 'why_buy': 'Value'}\n",
      "{'product_name': 'Riviera Pavé Diamond Engagement Ring', 'avg_rating': 4.7, 'side_stone_weight': 0.16666666666666666, 'metal': 'Platinum ', 'user_name': 'Stephanie H.', 'verified': 'Verified Buyer', 'stars': 5, 'date': '01/22/20', 'location': 'Sammamish, USA', 'expert_consulted': 'yes', 'recommended': 'Yes', 'why_buy': 'Value'}\n",
      "{'product_name': 'Riviera Pavé Diamond Engagement Ring', 'avg_rating': 4.7, 'side_stone_weight': 0.16666666666666666, 'metal': 'Platinum ', 'user_name': 'Stephen M.', 'verified': 'Verified Buyer', 'stars': 5, 'date': '01/22/20', 'location': 'Sugar Land, USA', 'expert_consulted': 'yes', 'recommended': 'Yes', 'why_buy': 'Value'}\n",
      "{'product_name': 'Riviera Pavé Diamond Engagement Ring', 'avg_rating': 4.7, 'side_stone_weight': 0.16666666666666666, 'metal': 'Platinum ', 'user_name': 'Vjosa M.', 'verified': 'Verified Buyer', 'stars': 1, 'date': '01/20/20', 'location': 'BRONX, USA', 'expert_consulted': 'yes', 'recommended': 'No', 'why_buy': 'Value'}\n",
      "19\n",
      "{'product_name': 'Riviera Pavé Diamond Engagement Ring', 'avg_rating': 4.7, 'side_stone_weight': 0.16666666666666666, 'metal': 'Platinum ', 'user_name': 'Liyang W.', 'verified': 'Verified Buyer', 'stars': 5, 'date': '01/19/20', 'location': 'SAN JOSE, USA', 'expert_consulted': 'no', 'recommended': 'Yes', 'why_buy': 'Value'}\n"
     ]
    },
    {
     "name": "stdout",
     "output_type": "stream",
     "text": [
      "{'product_name': 'Riviera Pavé Diamond Engagement Ring', 'avg_rating': 4.7, 'side_stone_weight': 0.16666666666666666, 'metal': 'Platinum ', 'user_name': 'Guest', 'verified': 'Verified Buyer', 'stars': 5, 'date': '01/11/20', 'location': 'Appleton, USA', 'expert_consulted': 'no', 'recommended': 'Yes', 'why_buy': 'Value'}\n",
      "{'product_name': 'Riviera Pavé Diamond Engagement Ring', 'avg_rating': 4.7, 'side_stone_weight': 0.16666666666666666, 'metal': 'Platinum ', 'user_name': 'Subala K.', 'verified': 'Verified Buyer', 'stars': 4, 'date': '12/31/19', 'location': None, 'expert_consulted': 'yes', 'recommended': None, 'why_buy': None}\n",
      "{'product_name': 'Riviera Pavé Diamond Engagement Ring', 'avg_rating': 4.7, 'side_stone_weight': 0.16666666666666666, 'metal': 'Platinum ', 'user_name': 'Domingo C.', 'verified': 'Verified Buyer', 'stars': 5, 'date': '12/25/19', 'location': 'Doral, USA', 'expert_consulted': 'no', 'recommended': 'Yes', 'why_buy': 'Value'}\n",
      "{'product_name': 'Riviera Pavé Diamond Engagement Ring', 'avg_rating': 4.7, 'side_stone_weight': 0.16666666666666666, 'metal': 'Platinum ', 'user_name': 'William P.', 'verified': 'Verified Buyer', 'stars': 5, 'date': '12/23/19', 'location': 'BRICK, USA', 'expert_consulted': 'no', 'recommended': 'Yes', 'why_buy': 'Selection'}\n",
      "{'product_name': 'Riviera Pavé Diamond Engagement Ring', 'avg_rating': 4.7, 'side_stone_weight': 0.16666666666666666, 'metal': 'Platinum ', 'user_name': 'Andrew J.', 'verified': 'Verified Buyer', 'stars': 5, 'date': '12/23/19', 'location': 'Ardmore, USA', 'expert_consulted': 'no', 'recommended': 'Yes', 'why_buy': 'Other'}\n"
     ]
    },
    {
     "ename": "KeyboardInterrupt",
     "evalue": "",
     "output_type": "error",
     "traceback": [
      "\u001b[1;31m---------------------------------------------------------------------------\u001b[0m",
      "\u001b[1;31mKeyboardInterrupt\u001b[0m                         Traceback (most recent call last)",
      "\u001b[1;32m<ipython-input-192-c598d0ed126e>\u001b[0m in \u001b[0;36m<module>\u001b[1;34m\u001b[0m\n\u001b[0;32m    111\u001b[0m             \u001b[1;32mfor\u001b[0m \u001b[0mquestion_ans\u001b[0m \u001b[1;32min\u001b[0m \u001b[0mquestion_list\u001b[0m\u001b[1;33m:\u001b[0m\u001b[1;33m\u001b[0m\u001b[1;33m\u001b[0m\u001b[0m\n\u001b[0;32m    112\u001b[0m                 \u001b[0mkey\u001b[0m \u001b[1;33m=\u001b[0m \u001b[0mquestion_ans\u001b[0m\u001b[1;33m.\u001b[0m\u001b[0mfind_element_by_xpath\u001b[0m\u001b[1;33m(\u001b[0m\u001b[1;34m'./span[1]'\u001b[0m\u001b[1;33m)\u001b[0m\u001b[1;33m.\u001b[0m\u001b[0mtext\u001b[0m\u001b[1;33m\u001b[0m\u001b[1;33m\u001b[0m\u001b[0m\n\u001b[1;32m--> 113\u001b[1;33m                 \u001b[0mvalue\u001b[0m \u001b[1;33m=\u001b[0m \u001b[0mquestion_ans\u001b[0m\u001b[1;33m.\u001b[0m\u001b[0mfind_element_by_xpath\u001b[0m\u001b[1;33m(\u001b[0m\u001b[1;34m'./span[2]'\u001b[0m\u001b[1;33m)\u001b[0m\u001b[1;33m.\u001b[0m\u001b[0mtext\u001b[0m\u001b[1;33m\u001b[0m\u001b[1;33m\u001b[0m\u001b[0m\n\u001b[0m\u001b[0;32m    114\u001b[0m                 \u001b[1;32mif\u001b[0m \u001b[1;32mnot\u001b[0m \u001b[0mkey\u001b[0m\u001b[1;33m:\u001b[0m\u001b[1;33m\u001b[0m\u001b[1;33m\u001b[0m\u001b[0m\n\u001b[0;32m    115\u001b[0m                     \u001b[1;32mcontinue\u001b[0m\u001b[1;33m\u001b[0m\u001b[1;33m\u001b[0m\u001b[0m\n",
      "\u001b[1;32m~\\anaconda3\\lib\\site-packages\\selenium\\webdriver\\remote\\webelement.py\u001b[0m in \u001b[0;36mtext\u001b[1;34m(self)\u001b[0m\n\u001b[0;32m     74\u001b[0m     \u001b[1;32mdef\u001b[0m \u001b[0mtext\u001b[0m\u001b[1;33m(\u001b[0m\u001b[0mself\u001b[0m\u001b[1;33m)\u001b[0m\u001b[1;33m:\u001b[0m\u001b[1;33m\u001b[0m\u001b[1;33m\u001b[0m\u001b[0m\n\u001b[0;32m     75\u001b[0m         \u001b[1;34m\"\"\"The text of the element.\"\"\"\u001b[0m\u001b[1;33m\u001b[0m\u001b[1;33m\u001b[0m\u001b[0m\n\u001b[1;32m---> 76\u001b[1;33m         \u001b[1;32mreturn\u001b[0m \u001b[0mself\u001b[0m\u001b[1;33m.\u001b[0m\u001b[0m_execute\u001b[0m\u001b[1;33m(\u001b[0m\u001b[0mCommand\u001b[0m\u001b[1;33m.\u001b[0m\u001b[0mGET_ELEMENT_TEXT\u001b[0m\u001b[1;33m)\u001b[0m\u001b[1;33m[\u001b[0m\u001b[1;34m'value'\u001b[0m\u001b[1;33m]\u001b[0m\u001b[1;33m\u001b[0m\u001b[1;33m\u001b[0m\u001b[0m\n\u001b[0m\u001b[0;32m     77\u001b[0m \u001b[1;33m\u001b[0m\u001b[0m\n\u001b[0;32m     78\u001b[0m     \u001b[1;32mdef\u001b[0m \u001b[0mclick\u001b[0m\u001b[1;33m(\u001b[0m\u001b[0mself\u001b[0m\u001b[1;33m)\u001b[0m\u001b[1;33m:\u001b[0m\u001b[1;33m\u001b[0m\u001b[1;33m\u001b[0m\u001b[0m\n",
      "\u001b[1;32m~\\anaconda3\\lib\\site-packages\\selenium\\webdriver\\remote\\webelement.py\u001b[0m in \u001b[0;36m_execute\u001b[1;34m(self, command, params)\u001b[0m\n\u001b[0;32m    631\u001b[0m             \u001b[0mparams\u001b[0m \u001b[1;33m=\u001b[0m \u001b[1;33m{\u001b[0m\u001b[1;33m}\u001b[0m\u001b[1;33m\u001b[0m\u001b[1;33m\u001b[0m\u001b[0m\n\u001b[0;32m    632\u001b[0m         \u001b[0mparams\u001b[0m\u001b[1;33m[\u001b[0m\u001b[1;34m'id'\u001b[0m\u001b[1;33m]\u001b[0m \u001b[1;33m=\u001b[0m \u001b[0mself\u001b[0m\u001b[1;33m.\u001b[0m\u001b[0m_id\u001b[0m\u001b[1;33m\u001b[0m\u001b[1;33m\u001b[0m\u001b[0m\n\u001b[1;32m--> 633\u001b[1;33m         \u001b[1;32mreturn\u001b[0m \u001b[0mself\u001b[0m\u001b[1;33m.\u001b[0m\u001b[0m_parent\u001b[0m\u001b[1;33m.\u001b[0m\u001b[0mexecute\u001b[0m\u001b[1;33m(\u001b[0m\u001b[0mcommand\u001b[0m\u001b[1;33m,\u001b[0m \u001b[0mparams\u001b[0m\u001b[1;33m)\u001b[0m\u001b[1;33m\u001b[0m\u001b[1;33m\u001b[0m\u001b[0m\n\u001b[0m\u001b[0;32m    634\u001b[0m \u001b[1;33m\u001b[0m\u001b[0m\n\u001b[0;32m    635\u001b[0m     \u001b[1;32mdef\u001b[0m \u001b[0mfind_element\u001b[0m\u001b[1;33m(\u001b[0m\u001b[0mself\u001b[0m\u001b[1;33m,\u001b[0m \u001b[0mby\u001b[0m\u001b[1;33m=\u001b[0m\u001b[0mBy\u001b[0m\u001b[1;33m.\u001b[0m\u001b[0mID\u001b[0m\u001b[1;33m,\u001b[0m \u001b[0mvalue\u001b[0m\u001b[1;33m=\u001b[0m\u001b[1;32mNone\u001b[0m\u001b[1;33m)\u001b[0m\u001b[1;33m:\u001b[0m\u001b[1;33m\u001b[0m\u001b[1;33m\u001b[0m\u001b[0m\n",
      "\u001b[1;32m~\\anaconda3\\lib\\site-packages\\selenium\\webdriver\\remote\\webdriver.py\u001b[0m in \u001b[0;36mexecute\u001b[1;34m(self, driver_command, params)\u001b[0m\n\u001b[0;32m    317\u001b[0m \u001b[1;33m\u001b[0m\u001b[0m\n\u001b[0;32m    318\u001b[0m         \u001b[0mparams\u001b[0m \u001b[1;33m=\u001b[0m \u001b[0mself\u001b[0m\u001b[1;33m.\u001b[0m\u001b[0m_wrap_value\u001b[0m\u001b[1;33m(\u001b[0m\u001b[0mparams\u001b[0m\u001b[1;33m)\u001b[0m\u001b[1;33m\u001b[0m\u001b[1;33m\u001b[0m\u001b[0m\n\u001b[1;32m--> 319\u001b[1;33m         \u001b[0mresponse\u001b[0m \u001b[1;33m=\u001b[0m \u001b[0mself\u001b[0m\u001b[1;33m.\u001b[0m\u001b[0mcommand_executor\u001b[0m\u001b[1;33m.\u001b[0m\u001b[0mexecute\u001b[0m\u001b[1;33m(\u001b[0m\u001b[0mdriver_command\u001b[0m\u001b[1;33m,\u001b[0m \u001b[0mparams\u001b[0m\u001b[1;33m)\u001b[0m\u001b[1;33m\u001b[0m\u001b[1;33m\u001b[0m\u001b[0m\n\u001b[0m\u001b[0;32m    320\u001b[0m         \u001b[1;32mif\u001b[0m \u001b[0mresponse\u001b[0m\u001b[1;33m:\u001b[0m\u001b[1;33m\u001b[0m\u001b[1;33m\u001b[0m\u001b[0m\n\u001b[0;32m    321\u001b[0m             \u001b[0mself\u001b[0m\u001b[1;33m.\u001b[0m\u001b[0merror_handler\u001b[0m\u001b[1;33m.\u001b[0m\u001b[0mcheck_response\u001b[0m\u001b[1;33m(\u001b[0m\u001b[0mresponse\u001b[0m\u001b[1;33m)\u001b[0m\u001b[1;33m\u001b[0m\u001b[1;33m\u001b[0m\u001b[0m\n",
      "\u001b[1;32m~\\anaconda3\\lib\\site-packages\\selenium\\webdriver\\remote\\remote_connection.py\u001b[0m in \u001b[0;36mexecute\u001b[1;34m(self, command, params)\u001b[0m\n\u001b[0;32m    372\u001b[0m         \u001b[0mdata\u001b[0m \u001b[1;33m=\u001b[0m \u001b[0mutils\u001b[0m\u001b[1;33m.\u001b[0m\u001b[0mdump_json\u001b[0m\u001b[1;33m(\u001b[0m\u001b[0mparams\u001b[0m\u001b[1;33m)\u001b[0m\u001b[1;33m\u001b[0m\u001b[1;33m\u001b[0m\u001b[0m\n\u001b[0;32m    373\u001b[0m         \u001b[0murl\u001b[0m \u001b[1;33m=\u001b[0m \u001b[1;34m'%s%s'\u001b[0m \u001b[1;33m%\u001b[0m \u001b[1;33m(\u001b[0m\u001b[0mself\u001b[0m\u001b[1;33m.\u001b[0m\u001b[0m_url\u001b[0m\u001b[1;33m,\u001b[0m \u001b[0mpath\u001b[0m\u001b[1;33m)\u001b[0m\u001b[1;33m\u001b[0m\u001b[1;33m\u001b[0m\u001b[0m\n\u001b[1;32m--> 374\u001b[1;33m         \u001b[1;32mreturn\u001b[0m \u001b[0mself\u001b[0m\u001b[1;33m.\u001b[0m\u001b[0m_request\u001b[0m\u001b[1;33m(\u001b[0m\u001b[0mcommand_info\u001b[0m\u001b[1;33m[\u001b[0m\u001b[1;36m0\u001b[0m\u001b[1;33m]\u001b[0m\u001b[1;33m,\u001b[0m \u001b[0murl\u001b[0m\u001b[1;33m,\u001b[0m \u001b[0mbody\u001b[0m\u001b[1;33m=\u001b[0m\u001b[0mdata\u001b[0m\u001b[1;33m)\u001b[0m\u001b[1;33m\u001b[0m\u001b[1;33m\u001b[0m\u001b[0m\n\u001b[0m\u001b[0;32m    375\u001b[0m \u001b[1;33m\u001b[0m\u001b[0m\n\u001b[0;32m    376\u001b[0m     \u001b[1;32mdef\u001b[0m \u001b[0m_request\u001b[0m\u001b[1;33m(\u001b[0m\u001b[0mself\u001b[0m\u001b[1;33m,\u001b[0m \u001b[0mmethod\u001b[0m\u001b[1;33m,\u001b[0m \u001b[0murl\u001b[0m\u001b[1;33m,\u001b[0m \u001b[0mbody\u001b[0m\u001b[1;33m=\u001b[0m\u001b[1;32mNone\u001b[0m\u001b[1;33m)\u001b[0m\u001b[1;33m:\u001b[0m\u001b[1;33m\u001b[0m\u001b[1;33m\u001b[0m\u001b[0m\n",
      "\u001b[1;32m~\\anaconda3\\lib\\site-packages\\selenium\\webdriver\\remote\\remote_connection.py\u001b[0m in \u001b[0;36m_request\u001b[1;34m(self, method, url, body)\u001b[0m\n\u001b[0;32m    395\u001b[0m \u001b[1;33m\u001b[0m\u001b[0m\n\u001b[0;32m    396\u001b[0m         \u001b[1;32mif\u001b[0m \u001b[0mself\u001b[0m\u001b[1;33m.\u001b[0m\u001b[0mkeep_alive\u001b[0m\u001b[1;33m:\u001b[0m\u001b[1;33m\u001b[0m\u001b[1;33m\u001b[0m\u001b[0m\n\u001b[1;32m--> 397\u001b[1;33m             \u001b[0mresp\u001b[0m \u001b[1;33m=\u001b[0m \u001b[0mself\u001b[0m\u001b[1;33m.\u001b[0m\u001b[0m_conn\u001b[0m\u001b[1;33m.\u001b[0m\u001b[0mrequest\u001b[0m\u001b[1;33m(\u001b[0m\u001b[0mmethod\u001b[0m\u001b[1;33m,\u001b[0m \u001b[0murl\u001b[0m\u001b[1;33m,\u001b[0m \u001b[0mbody\u001b[0m\u001b[1;33m=\u001b[0m\u001b[0mbody\u001b[0m\u001b[1;33m,\u001b[0m \u001b[0mheaders\u001b[0m\u001b[1;33m=\u001b[0m\u001b[0mheaders\u001b[0m\u001b[1;33m)\u001b[0m\u001b[1;33m\u001b[0m\u001b[1;33m\u001b[0m\u001b[0m\n\u001b[0m\u001b[0;32m    398\u001b[0m \u001b[1;33m\u001b[0m\u001b[0m\n\u001b[0;32m    399\u001b[0m             \u001b[0mstatuscode\u001b[0m \u001b[1;33m=\u001b[0m \u001b[0mresp\u001b[0m\u001b[1;33m.\u001b[0m\u001b[0mstatus\u001b[0m\u001b[1;33m\u001b[0m\u001b[1;33m\u001b[0m\u001b[0m\n",
      "\u001b[1;32m~\\anaconda3\\lib\\site-packages\\urllib3\\request.py\u001b[0m in \u001b[0;36mrequest\u001b[1;34m(self, method, url, fields, headers, **urlopen_kw)\u001b[0m\n\u001b[0;32m     74\u001b[0m         \u001b[1;32mif\u001b[0m \u001b[0mmethod\u001b[0m \u001b[1;32min\u001b[0m \u001b[0mself\u001b[0m\u001b[1;33m.\u001b[0m\u001b[0m_encode_url_methods\u001b[0m\u001b[1;33m:\u001b[0m\u001b[1;33m\u001b[0m\u001b[1;33m\u001b[0m\u001b[0m\n\u001b[0;32m     75\u001b[0m             return self.request_encode_url(\n\u001b[1;32m---> 76\u001b[1;33m                 \u001b[0mmethod\u001b[0m\u001b[1;33m,\u001b[0m \u001b[0murl\u001b[0m\u001b[1;33m,\u001b[0m \u001b[0mfields\u001b[0m\u001b[1;33m=\u001b[0m\u001b[0mfields\u001b[0m\u001b[1;33m,\u001b[0m \u001b[0mheaders\u001b[0m\u001b[1;33m=\u001b[0m\u001b[0mheaders\u001b[0m\u001b[1;33m,\u001b[0m \u001b[1;33m**\u001b[0m\u001b[0murlopen_kw\u001b[0m\u001b[1;33m\u001b[0m\u001b[1;33m\u001b[0m\u001b[0m\n\u001b[0m\u001b[0;32m     77\u001b[0m             )\n\u001b[0;32m     78\u001b[0m         \u001b[1;32melse\u001b[0m\u001b[1;33m:\u001b[0m\u001b[1;33m\u001b[0m\u001b[1;33m\u001b[0m\u001b[0m\n",
      "\u001b[1;32m~\\anaconda3\\lib\\site-packages\\urllib3\\request.py\u001b[0m in \u001b[0;36mrequest_encode_url\u001b[1;34m(self, method, url, fields, headers, **urlopen_kw)\u001b[0m\n\u001b[0;32m     95\u001b[0m             \u001b[0murl\u001b[0m \u001b[1;33m+=\u001b[0m \u001b[1;34m\"?\"\u001b[0m \u001b[1;33m+\u001b[0m \u001b[0murlencode\u001b[0m\u001b[1;33m(\u001b[0m\u001b[0mfields\u001b[0m\u001b[1;33m)\u001b[0m\u001b[1;33m\u001b[0m\u001b[1;33m\u001b[0m\u001b[0m\n\u001b[0;32m     96\u001b[0m \u001b[1;33m\u001b[0m\u001b[0m\n\u001b[1;32m---> 97\u001b[1;33m         \u001b[1;32mreturn\u001b[0m \u001b[0mself\u001b[0m\u001b[1;33m.\u001b[0m\u001b[0murlopen\u001b[0m\u001b[1;33m(\u001b[0m\u001b[0mmethod\u001b[0m\u001b[1;33m,\u001b[0m \u001b[0murl\u001b[0m\u001b[1;33m,\u001b[0m \u001b[1;33m**\u001b[0m\u001b[0mextra_kw\u001b[0m\u001b[1;33m)\u001b[0m\u001b[1;33m\u001b[0m\u001b[1;33m\u001b[0m\u001b[0m\n\u001b[0m\u001b[0;32m     98\u001b[0m \u001b[1;33m\u001b[0m\u001b[0m\n\u001b[0;32m     99\u001b[0m     def request_encode_body(\n",
      "\u001b[1;32m~\\anaconda3\\lib\\site-packages\\urllib3\\poolmanager.py\u001b[0m in \u001b[0;36murlopen\u001b[1;34m(self, method, url, redirect, **kw)\u001b[0m\n\u001b[0;32m    328\u001b[0m             \u001b[0mresponse\u001b[0m \u001b[1;33m=\u001b[0m \u001b[0mconn\u001b[0m\u001b[1;33m.\u001b[0m\u001b[0murlopen\u001b[0m\u001b[1;33m(\u001b[0m\u001b[0mmethod\u001b[0m\u001b[1;33m,\u001b[0m \u001b[0murl\u001b[0m\u001b[1;33m,\u001b[0m \u001b[1;33m**\u001b[0m\u001b[0mkw\u001b[0m\u001b[1;33m)\u001b[0m\u001b[1;33m\u001b[0m\u001b[1;33m\u001b[0m\u001b[0m\n\u001b[0;32m    329\u001b[0m         \u001b[1;32melse\u001b[0m\u001b[1;33m:\u001b[0m\u001b[1;33m\u001b[0m\u001b[1;33m\u001b[0m\u001b[0m\n\u001b[1;32m--> 330\u001b[1;33m             \u001b[0mresponse\u001b[0m \u001b[1;33m=\u001b[0m \u001b[0mconn\u001b[0m\u001b[1;33m.\u001b[0m\u001b[0murlopen\u001b[0m\u001b[1;33m(\u001b[0m\u001b[0mmethod\u001b[0m\u001b[1;33m,\u001b[0m \u001b[0mu\u001b[0m\u001b[1;33m.\u001b[0m\u001b[0mrequest_uri\u001b[0m\u001b[1;33m,\u001b[0m \u001b[1;33m**\u001b[0m\u001b[0mkw\u001b[0m\u001b[1;33m)\u001b[0m\u001b[1;33m\u001b[0m\u001b[1;33m\u001b[0m\u001b[0m\n\u001b[0m\u001b[0;32m    331\u001b[0m \u001b[1;33m\u001b[0m\u001b[0m\n\u001b[0;32m    332\u001b[0m         \u001b[0mredirect_location\u001b[0m \u001b[1;33m=\u001b[0m \u001b[0mredirect\u001b[0m \u001b[1;32mand\u001b[0m \u001b[0mresponse\u001b[0m\u001b[1;33m.\u001b[0m\u001b[0mget_redirect_location\u001b[0m\u001b[1;33m(\u001b[0m\u001b[1;33m)\u001b[0m\u001b[1;33m\u001b[0m\u001b[1;33m\u001b[0m\u001b[0m\n",
      "\u001b[1;32m~\\anaconda3\\lib\\site-packages\\urllib3\\connectionpool.py\u001b[0m in \u001b[0;36murlopen\u001b[1;34m(self, method, url, body, headers, retries, redirect, assert_same_host, timeout, pool_timeout, release_conn, chunked, body_pos, **response_kw)\u001b[0m\n\u001b[0;32m    670\u001b[0m                 \u001b[0mbody\u001b[0m\u001b[1;33m=\u001b[0m\u001b[0mbody\u001b[0m\u001b[1;33m,\u001b[0m\u001b[1;33m\u001b[0m\u001b[1;33m\u001b[0m\u001b[0m\n\u001b[0;32m    671\u001b[0m                 \u001b[0mheaders\u001b[0m\u001b[1;33m=\u001b[0m\u001b[0mheaders\u001b[0m\u001b[1;33m,\u001b[0m\u001b[1;33m\u001b[0m\u001b[1;33m\u001b[0m\u001b[0m\n\u001b[1;32m--> 672\u001b[1;33m                 \u001b[0mchunked\u001b[0m\u001b[1;33m=\u001b[0m\u001b[0mchunked\u001b[0m\u001b[1;33m,\u001b[0m\u001b[1;33m\u001b[0m\u001b[1;33m\u001b[0m\u001b[0m\n\u001b[0m\u001b[0;32m    673\u001b[0m             )\n\u001b[0;32m    674\u001b[0m \u001b[1;33m\u001b[0m\u001b[0m\n",
      "\u001b[1;32m~\\anaconda3\\lib\\site-packages\\urllib3\\connectionpool.py\u001b[0m in \u001b[0;36m_make_request\u001b[1;34m(self, conn, method, url, timeout, chunked, **httplib_request_kw)\u001b[0m\n\u001b[0;32m    385\u001b[0m             \u001b[0mconn\u001b[0m\u001b[1;33m.\u001b[0m\u001b[0mrequest_chunked\u001b[0m\u001b[1;33m(\u001b[0m\u001b[0mmethod\u001b[0m\u001b[1;33m,\u001b[0m \u001b[0murl\u001b[0m\u001b[1;33m,\u001b[0m \u001b[1;33m**\u001b[0m\u001b[0mhttplib_request_kw\u001b[0m\u001b[1;33m)\u001b[0m\u001b[1;33m\u001b[0m\u001b[1;33m\u001b[0m\u001b[0m\n\u001b[0;32m    386\u001b[0m         \u001b[1;32melse\u001b[0m\u001b[1;33m:\u001b[0m\u001b[1;33m\u001b[0m\u001b[1;33m\u001b[0m\u001b[0m\n\u001b[1;32m--> 387\u001b[1;33m             \u001b[0mconn\u001b[0m\u001b[1;33m.\u001b[0m\u001b[0mrequest\u001b[0m\u001b[1;33m(\u001b[0m\u001b[0mmethod\u001b[0m\u001b[1;33m,\u001b[0m \u001b[0murl\u001b[0m\u001b[1;33m,\u001b[0m \u001b[1;33m**\u001b[0m\u001b[0mhttplib_request_kw\u001b[0m\u001b[1;33m)\u001b[0m\u001b[1;33m\u001b[0m\u001b[1;33m\u001b[0m\u001b[0m\n\u001b[0m\u001b[0;32m    388\u001b[0m \u001b[1;33m\u001b[0m\u001b[0m\n\u001b[0;32m    389\u001b[0m         \u001b[1;31m# Reset the timeout for the recv() on the socket\u001b[0m\u001b[1;33m\u001b[0m\u001b[1;33m\u001b[0m\u001b[1;33m\u001b[0m\u001b[0m\n",
      "\u001b[1;32m~\\anaconda3\\lib\\http\\client.py\u001b[0m in \u001b[0;36mrequest\u001b[1;34m(self, method, url, body, headers, encode_chunked)\u001b[0m\n\u001b[0;32m   1250\u001b[0m                 encode_chunked=False):\n\u001b[0;32m   1251\u001b[0m         \u001b[1;34m\"\"\"Send a complete request to the server.\"\"\"\u001b[0m\u001b[1;33m\u001b[0m\u001b[1;33m\u001b[0m\u001b[0m\n\u001b[1;32m-> 1252\u001b[1;33m         \u001b[0mself\u001b[0m\u001b[1;33m.\u001b[0m\u001b[0m_send_request\u001b[0m\u001b[1;33m(\u001b[0m\u001b[0mmethod\u001b[0m\u001b[1;33m,\u001b[0m \u001b[0murl\u001b[0m\u001b[1;33m,\u001b[0m \u001b[0mbody\u001b[0m\u001b[1;33m,\u001b[0m \u001b[0mheaders\u001b[0m\u001b[1;33m,\u001b[0m \u001b[0mencode_chunked\u001b[0m\u001b[1;33m)\u001b[0m\u001b[1;33m\u001b[0m\u001b[1;33m\u001b[0m\u001b[0m\n\u001b[0m\u001b[0;32m   1253\u001b[0m \u001b[1;33m\u001b[0m\u001b[0m\n\u001b[0;32m   1254\u001b[0m     \u001b[1;32mdef\u001b[0m \u001b[0m_send_request\u001b[0m\u001b[1;33m(\u001b[0m\u001b[0mself\u001b[0m\u001b[1;33m,\u001b[0m \u001b[0mmethod\u001b[0m\u001b[1;33m,\u001b[0m \u001b[0murl\u001b[0m\u001b[1;33m,\u001b[0m \u001b[0mbody\u001b[0m\u001b[1;33m,\u001b[0m \u001b[0mheaders\u001b[0m\u001b[1;33m,\u001b[0m \u001b[0mencode_chunked\u001b[0m\u001b[1;33m)\u001b[0m\u001b[1;33m:\u001b[0m\u001b[1;33m\u001b[0m\u001b[1;33m\u001b[0m\u001b[0m\n",
      "\u001b[1;32m~\\anaconda3\\lib\\http\\client.py\u001b[0m in \u001b[0;36m_send_request\u001b[1;34m(self, method, url, body, headers, encode_chunked)\u001b[0m\n\u001b[0;32m   1296\u001b[0m             \u001b[1;31m# default charset of iso-8859-1.\u001b[0m\u001b[1;33m\u001b[0m\u001b[1;33m\u001b[0m\u001b[1;33m\u001b[0m\u001b[0m\n\u001b[0;32m   1297\u001b[0m             \u001b[0mbody\u001b[0m \u001b[1;33m=\u001b[0m \u001b[0m_encode\u001b[0m\u001b[1;33m(\u001b[0m\u001b[0mbody\u001b[0m\u001b[1;33m,\u001b[0m \u001b[1;34m'body'\u001b[0m\u001b[1;33m)\u001b[0m\u001b[1;33m\u001b[0m\u001b[1;33m\u001b[0m\u001b[0m\n\u001b[1;32m-> 1298\u001b[1;33m         \u001b[0mself\u001b[0m\u001b[1;33m.\u001b[0m\u001b[0mendheaders\u001b[0m\u001b[1;33m(\u001b[0m\u001b[0mbody\u001b[0m\u001b[1;33m,\u001b[0m \u001b[0mencode_chunked\u001b[0m\u001b[1;33m=\u001b[0m\u001b[0mencode_chunked\u001b[0m\u001b[1;33m)\u001b[0m\u001b[1;33m\u001b[0m\u001b[1;33m\u001b[0m\u001b[0m\n\u001b[0m\u001b[0;32m   1299\u001b[0m \u001b[1;33m\u001b[0m\u001b[0m\n\u001b[0;32m   1300\u001b[0m     \u001b[1;32mdef\u001b[0m \u001b[0mgetresponse\u001b[0m\u001b[1;33m(\u001b[0m\u001b[0mself\u001b[0m\u001b[1;33m)\u001b[0m\u001b[1;33m:\u001b[0m\u001b[1;33m\u001b[0m\u001b[1;33m\u001b[0m\u001b[0m\n",
      "\u001b[1;32m~\\anaconda3\\lib\\http\\client.py\u001b[0m in \u001b[0;36mendheaders\u001b[1;34m(self, message_body, encode_chunked)\u001b[0m\n\u001b[0;32m   1245\u001b[0m         \u001b[1;32melse\u001b[0m\u001b[1;33m:\u001b[0m\u001b[1;33m\u001b[0m\u001b[1;33m\u001b[0m\u001b[0m\n\u001b[0;32m   1246\u001b[0m             \u001b[1;32mraise\u001b[0m \u001b[0mCannotSendHeader\u001b[0m\u001b[1;33m(\u001b[0m\u001b[1;33m)\u001b[0m\u001b[1;33m\u001b[0m\u001b[1;33m\u001b[0m\u001b[0m\n\u001b[1;32m-> 1247\u001b[1;33m         \u001b[0mself\u001b[0m\u001b[1;33m.\u001b[0m\u001b[0m_send_output\u001b[0m\u001b[1;33m(\u001b[0m\u001b[0mmessage_body\u001b[0m\u001b[1;33m,\u001b[0m \u001b[0mencode_chunked\u001b[0m\u001b[1;33m=\u001b[0m\u001b[0mencode_chunked\u001b[0m\u001b[1;33m)\u001b[0m\u001b[1;33m\u001b[0m\u001b[1;33m\u001b[0m\u001b[0m\n\u001b[0m\u001b[0;32m   1248\u001b[0m \u001b[1;33m\u001b[0m\u001b[0m\n\u001b[0;32m   1249\u001b[0m     def request(self, method, url, body=None, headers={}, *,\n",
      "\u001b[1;32m~\\anaconda3\\lib\\http\\client.py\u001b[0m in \u001b[0;36m_send_output\u001b[1;34m(self, message_body, encode_chunked)\u001b[0m\n\u001b[0;32m   1024\u001b[0m         \u001b[0mmsg\u001b[0m \u001b[1;33m=\u001b[0m \u001b[1;34mb\"\\r\\n\"\u001b[0m\u001b[1;33m.\u001b[0m\u001b[0mjoin\u001b[0m\u001b[1;33m(\u001b[0m\u001b[0mself\u001b[0m\u001b[1;33m.\u001b[0m\u001b[0m_buffer\u001b[0m\u001b[1;33m)\u001b[0m\u001b[1;33m\u001b[0m\u001b[1;33m\u001b[0m\u001b[0m\n\u001b[0;32m   1025\u001b[0m         \u001b[1;32mdel\u001b[0m \u001b[0mself\u001b[0m\u001b[1;33m.\u001b[0m\u001b[0m_buffer\u001b[0m\u001b[1;33m[\u001b[0m\u001b[1;33m:\u001b[0m\u001b[1;33m]\u001b[0m\u001b[1;33m\u001b[0m\u001b[1;33m\u001b[0m\u001b[0m\n\u001b[1;32m-> 1026\u001b[1;33m         \u001b[0mself\u001b[0m\u001b[1;33m.\u001b[0m\u001b[0msend\u001b[0m\u001b[1;33m(\u001b[0m\u001b[0mmsg\u001b[0m\u001b[1;33m)\u001b[0m\u001b[1;33m\u001b[0m\u001b[1;33m\u001b[0m\u001b[0m\n\u001b[0m\u001b[0;32m   1027\u001b[0m \u001b[1;33m\u001b[0m\u001b[0m\n\u001b[0;32m   1028\u001b[0m         \u001b[1;32mif\u001b[0m \u001b[0mmessage_body\u001b[0m \u001b[1;32mis\u001b[0m \u001b[1;32mnot\u001b[0m \u001b[1;32mNone\u001b[0m\u001b[1;33m:\u001b[0m\u001b[1;33m\u001b[0m\u001b[1;33m\u001b[0m\u001b[0m\n",
      "\u001b[1;32m~\\anaconda3\\lib\\http\\client.py\u001b[0m in \u001b[0;36msend\u001b[1;34m(self, data)\u001b[0m\n\u001b[0;32m    985\u001b[0m             \u001b[1;32mreturn\u001b[0m\u001b[1;33m\u001b[0m\u001b[1;33m\u001b[0m\u001b[0m\n\u001b[0;32m    986\u001b[0m         \u001b[1;32mtry\u001b[0m\u001b[1;33m:\u001b[0m\u001b[1;33m\u001b[0m\u001b[1;33m\u001b[0m\u001b[0m\n\u001b[1;32m--> 987\u001b[1;33m             \u001b[0mself\u001b[0m\u001b[1;33m.\u001b[0m\u001b[0msock\u001b[0m\u001b[1;33m.\u001b[0m\u001b[0msendall\u001b[0m\u001b[1;33m(\u001b[0m\u001b[0mdata\u001b[0m\u001b[1;33m)\u001b[0m\u001b[1;33m\u001b[0m\u001b[1;33m\u001b[0m\u001b[0m\n\u001b[0m\u001b[0;32m    988\u001b[0m         \u001b[1;32mexcept\u001b[0m \u001b[0mTypeError\u001b[0m\u001b[1;33m:\u001b[0m\u001b[1;33m\u001b[0m\u001b[1;33m\u001b[0m\u001b[0m\n\u001b[0;32m    989\u001b[0m             \u001b[1;32mif\u001b[0m \u001b[0misinstance\u001b[0m\u001b[1;33m(\u001b[0m\u001b[0mdata\u001b[0m\u001b[1;33m,\u001b[0m \u001b[0mcollections\u001b[0m\u001b[1;33m.\u001b[0m\u001b[0mabc\u001b[0m\u001b[1;33m.\u001b[0m\u001b[0mIterable\u001b[0m\u001b[1;33m)\u001b[0m\u001b[1;33m:\u001b[0m\u001b[1;33m\u001b[0m\u001b[1;33m\u001b[0m\u001b[0m\n",
      "\u001b[1;31mKeyboardInterrupt\u001b[0m: "
     ]
    }
   ],
   "source": [
    "import time\n",
    "\n",
    "driver = webdriver.Chrome(r'C:\\Users\\Chun\\chromedriver_win32 (1)\\chromedriver.exe')\n",
    "driver.get(\"https://www.bluenile.com/build-your-own-ring/settings\")\n",
    "\n",
    "SCROLL_PAUSE_TIME = 0.5\n",
    "\n",
    "\n",
    "while True:\n",
    "\n",
    "    # Get scroll height\n",
    "    ### This is the difference. Moving this *inside* the loop\n",
    "    ### means that it checks if scrollTo is still scrolling \n",
    "    last_height = driver.execute_script(\"return document.body.scrollHeight\")\n",
    "\n",
    "    # Scroll down to bottom\n",
    "    driver.execute_script(\"window.scrollTo(0, document.body.scrollHeight);\")\n",
    "\n",
    "    # Wait to load page\n",
    "    time.sleep(SCROLL_PAUSE_TIME)\n",
    "\n",
    "    # Calculate new scroll height and compare with last scroll height\n",
    "    new_height = driver.execute_script(\"return document.body.scrollHeight\")\n",
    "    if new_height == last_height:\n",
    "\n",
    "        # try again (can be removed)\n",
    "        driver.execute_script(\"window.scrollTo(0, document.body.scrollHeight);\")\n",
    "\n",
    "        # Wait to load page\n",
    "        time.sleep(SCROLL_PAUSE_TIME)\n",
    "\n",
    "        # Calculate new scroll height and compare with last scroll height\n",
    "        new_height = driver.execute_script(\"return document.body.scrollHeight\")\n",
    "\n",
    "        # check if the page height has remained the same\n",
    "        if new_height == last_height:\n",
    "            # if so, you are done\n",
    "            break\n",
    "        # if not, move on to the next loop\n",
    "        else:\n",
    "            last_height = new_height\n",
    "            continue\n",
    "            \n",
    "## get all the links for each ring style ##\n",
    "links = driver.find_elements_by_class_name('related-metals')\n",
    "\n",
    "product_urls = []\n",
    "for link in links[:100]:\n",
    "    item_link = link.get_attribute(\"href\")\n",
    "    product_urls.append(item_link)\n",
    "    \n",
    "    \n",
    "## Make csv_writer ##\n",
    "csv_file = open('bluenile.csv', 'w', encoding='utf-8', newline='')\n",
    "writer = csv.writer(csv_file)\n",
    "\n",
    "writer.writerow(['product_name', 'avg_rating', 'side_stone_weight', 'metal',\n",
    "                 'user_name', 'verified', 'stars', 'date', 'location',\n",
    "                 'expert_consulted', 'recommended', 'why_buy'])\n",
    "\n",
    "\n",
    "## enter each product page, retrive data ##\n",
    "for product_url in product_urls:\n",
    "    item = {}\n",
    "    driver.get(product_url)\n",
    "    \n",
    "    ## find out how many page of review there are ##\n",
    "    num_review = driver.find_element_by_class_name('rating-values').text\n",
    "    num_review = int(re.search('(\\d+) reviews?',num_review).group(1))\n",
    "    review_page_num = math.ceil(num_review/15)\n",
    "    \n",
    "#     if review_page_num != 0:\n",
    "    review_page_urls = [f'{product_url}?yoReviewsPage={i+1}' for i in range(review_page_num)]\n",
    "    \n",
    "    ## retrive product information ##\n",
    "    product_name = driver.find_element_by_class_name('title').text\n",
    "    \n",
    "    try:\n",
    "        avg_rating = driver.find_element_by_class_name('sr-only').text[:3]\n",
    "        avg_rating = float(avg_rating)\n",
    "    except:\n",
    "        time.sleep(2)\n",
    "        avg_rating = driver.find_element_by_xpath('//div[@class=\"bottom-line-items\"]/span[@class=\"avg-score font-color-gray-darker\"]').text\n",
    "        avg_rating = float(avg_rating)\n",
    "    \n",
    "    band = driver.find_element_by_class_name('subtitle').text\n",
    "    s = re.search('(.+)\\((.*)ct. tw.\\)',band)\n",
    "    try:\n",
    "        weight = s.group(2)\n",
    "        a,b = re.search('(\\d)\\/(\\d+)', weight).groups()\n",
    "        side_weight = int(a)/int(b)\n",
    "    except:\n",
    "        side_weight = 0\n",
    "    try:    \n",
    "        metal = s.group(1)\n",
    "    except: \n",
    "        metal = band\n",
    "    \n",
    "    ## collect review information ##\n",
    "    for review_page in review_page_urls[:2]:\n",
    "        driver.get(review_page)\n",
    "        \n",
    "        reviews = driver.find_elements_by_xpath('//div[@class=\"yotpo-reviews yotpo-active\"]/div')\n",
    "        reviews = reviews[3:]\n",
    "        print(len(reviews))\n",
    "        time.sleep(1)\n",
    "\n",
    "        for review in reviews:\n",
    "            question_list = review.find_elements_by_class_name('yotpo-user-field')\n",
    "            \n",
    "            row_dict = {}\n",
    "            for question_ans in question_list:\n",
    "                key = question_ans.find_element_by_xpath('./span[1]').text\n",
    "                value = question_ans.find_element_by_xpath('./span[2]').text\n",
    "                if not key:\n",
    "                    continue\n",
    "\n",
    "                row_dict[key.replace(':', '')] = value\n",
    "\n",
    "            try:\n",
    "                user_name = review.find_element_by_xpath('.//span[@class=\"y-label yotpo-user-name yotpo-font-bold pull-left\"]').text\n",
    "            except:\n",
    "                continue\n",
    "                \n",
    "            verified = review.find_element_by_xpath('.//span[@class=\"y-label yotpo-user-title yotpo-action-hover\"]').text\n",
    "            stars = review.find_element_by_xpath('.//span[@aria-label=\"Link to product page\"]').text\n",
    "            stars = int(stars[:1])\n",
    "            date = review.find_element_by_xpath('.//span[@class=\"y-label yotpo-review-date\"]').text\n",
    "            review_text = review.find_element_by_xpath\n",
    "\n",
    "            item['product_name'] = product_name\n",
    "            item['avg_rating'] = avg_rating\n",
    "            item['side_stone_weight'] = side_weight\n",
    "            item['metal'] = metal\n",
    "            item['user_name'] = user_name\n",
    "            item['verified'] = verified\n",
    "            item['stars'] = stars\n",
    "            item['date'] = date\n",
    "            item['location'] = row_dict.get('Location')\n",
    "            item['expert_consulted'] = row_dict.get('Blue Nile jewelry expert consulted')\n",
    "            if row_dict.get('Recommendation'):\n",
    "                item['recommended'] = row_dict.get('Recommendation')\n",
    "            else:\n",
    "                item['recommended'] = row_dict.get('Recommend')\n",
    "            if row_dict.get('Why buy a Blue Nile Diamond'):\n",
    "                item['why_buy'] = row_dict.get('Why buy a Blue Nile Diamond')\n",
    "            else:\n",
    "                item['why_buy'] = row_dict.get('Reason')  \n",
    "\n",
    "            print(item)\n",
    "\n",
    "            writer.writerow(item.values())\n",
    "    "
   ]
  },
  {
   "cell_type": "code",
   "execution_count": 89,
   "metadata": {
    "scrolled": true
   },
   "outputs": [
    {
     "data": {
      "text/plain": [
       "11"
      ]
     },
     "execution_count": 89,
     "metadata": {},
     "output_type": "execute_result"
    }
   ],
   "source": [
    "import math\n",
    "review_page_num = math.ceil(num_review/15)\n",
    "review_page_num"
   ]
  },
  {
   "cell_type": "code",
   "execution_count": 109,
   "metadata": {},
   "outputs": [],
   "source": [
    "reviews = driver.find_elements_by_xpath('//div[@class=\"yotpo-reviews yotpo-active\"]/div')\n",
    "reviews = reviews[3:]\n",
    "review = reviews[0]\n",
    "review."
   ]
  },
  {
   "cell_type": "code",
   "execution_count": 52,
   "metadata": {},
   "outputs": [],
   "source": [
    "next_button = driver.find_element_by_xpath('//div/a[@rel=\"next\"]')\n",
    "link_to_next_review = next_button.get_attribute('href')\n",
    "driver.get(link_to_next_review)"
   ]
  },
  {
   "cell_type": "code",
   "execution_count": 92,
   "metadata": {},
   "outputs": [],
   "source": [
    "url_list = [f'https://www.bluenile.com/build-your-own-ring/petite-twist-diamond-engagement-ring-14k-white-gold_56003?yoReviewsPage={i+1}' \n",
    "            for i in range(review_page_num)]"
   ]
  },
  {
   "cell_type": "code",
   "execution_count": 93,
   "metadata": {
    "collapsed": true
   },
   "outputs": [
    {
     "data": {
      "text/plain": [
       "['https://www.bluenile.com/build-your-own-ring/petite-twist-diamond-engagement-ring-14k-white-gold_56003?yoReviewsPage=1',\n",
       " 'https://www.bluenile.com/build-your-own-ring/petite-twist-diamond-engagement-ring-14k-white-gold_56003?yoReviewsPage=2',\n",
       " 'https://www.bluenile.com/build-your-own-ring/petite-twist-diamond-engagement-ring-14k-white-gold_56003?yoReviewsPage=3',\n",
       " 'https://www.bluenile.com/build-your-own-ring/petite-twist-diamond-engagement-ring-14k-white-gold_56003?yoReviewsPage=4',\n",
       " 'https://www.bluenile.com/build-your-own-ring/petite-twist-diamond-engagement-ring-14k-white-gold_56003?yoReviewsPage=5',\n",
       " 'https://www.bluenile.com/build-your-own-ring/petite-twist-diamond-engagement-ring-14k-white-gold_56003?yoReviewsPage=6',\n",
       " 'https://www.bluenile.com/build-your-own-ring/petite-twist-diamond-engagement-ring-14k-white-gold_56003?yoReviewsPage=7',\n",
       " 'https://www.bluenile.com/build-your-own-ring/petite-twist-diamond-engagement-ring-14k-white-gold_56003?yoReviewsPage=8',\n",
       " 'https://www.bluenile.com/build-your-own-ring/petite-twist-diamond-engagement-ring-14k-white-gold_56003?yoReviewsPage=9',\n",
       " 'https://www.bluenile.com/build-your-own-ring/petite-twist-diamond-engagement-ring-14k-white-gold_56003?yoReviewsPage=10',\n",
       " 'https://www.bluenile.com/build-your-own-ring/petite-twist-diamond-engagement-ring-14k-white-gold_56003?yoReviewsPage=11']"
      ]
     },
     "execution_count": 93,
     "metadata": {},
     "output_type": "execute_result"
    }
   ],
   "source": [
    "url_list"
   ]
  },
  {
   "cell_type": "code",
   "execution_count": 95,
   "metadata": {
    "collapsed": true
   },
   "outputs": [
    {
     "name": "stdout",
     "output_type": "stream",
     "text": [
      "coming to page 1\n",
      "coming to page 2\n",
      "coming to page 3\n",
      "coming to page 4\n"
     ]
    },
    {
     "ename": "KeyboardInterrupt",
     "evalue": "",
     "output_type": "error",
     "traceback": [
      "\u001b[1;31m---------------------------------------------------------------------------\u001b[0m",
      "\u001b[1;31mKeyboardInterrupt\u001b[0m                         Traceback (most recent call last)",
      "\u001b[1;32m<ipython-input-95-7cd203deba36>\u001b[0m in \u001b[0;36m<module>\u001b[1;34m\u001b[0m\n\u001b[0;32m      5\u001b[0m \u001b[1;31m#     print(link_to_next_review)\u001b[0m\u001b[1;33m\u001b[0m\u001b[1;33m\u001b[0m\u001b[1;33m\u001b[0m\u001b[0m\n\u001b[0;32m      6\u001b[0m \u001b[1;31m#     driver.get(link_to_next_review)\u001b[0m\u001b[1;33m\u001b[0m\u001b[1;33m\u001b[0m\u001b[1;33m\u001b[0m\u001b[0m\n\u001b[1;32m----> 7\u001b[1;33m     \u001b[0mdriver\u001b[0m\u001b[1;33m.\u001b[0m\u001b[0mget\u001b[0m\u001b[1;33m(\u001b[0m\u001b[0murl\u001b[0m\u001b[1;33m)\u001b[0m\u001b[1;33m\u001b[0m\u001b[1;33m\u001b[0m\u001b[0m\n\u001b[0m\u001b[0;32m      8\u001b[0m     \u001b[0mprint\u001b[0m\u001b[1;33m(\u001b[0m\u001b[1;34mf'coming to page {idx}'\u001b[0m\u001b[1;33m)\u001b[0m\u001b[1;33m\u001b[0m\u001b[1;33m\u001b[0m\u001b[0m\n\u001b[0;32m      9\u001b[0m \u001b[1;31m# WebDriverWait(driver, 10).until(EC.presence_of_all_elements_located((By.XPATH,'//div/a[@rel=\"next\"]')))\u001b[0m\u001b[1;33m\u001b[0m\u001b[1;33m\u001b[0m\u001b[1;33m\u001b[0m\u001b[0m\n",
      "\u001b[1;32m~\\anaconda3\\lib\\site-packages\\selenium\\webdriver\\remote\\webdriver.py\u001b[0m in \u001b[0;36mget\u001b[1;34m(self, url)\u001b[0m\n\u001b[0;32m    331\u001b[0m         \u001b[0mLoads\u001b[0m \u001b[0ma\u001b[0m \u001b[0mweb\u001b[0m \u001b[0mpage\u001b[0m \u001b[1;32min\u001b[0m \u001b[0mthe\u001b[0m \u001b[0mcurrent\u001b[0m \u001b[0mbrowser\u001b[0m \u001b[0msession\u001b[0m\u001b[1;33m.\u001b[0m\u001b[1;33m\u001b[0m\u001b[1;33m\u001b[0m\u001b[0m\n\u001b[0;32m    332\u001b[0m         \"\"\"\n\u001b[1;32m--> 333\u001b[1;33m         \u001b[0mself\u001b[0m\u001b[1;33m.\u001b[0m\u001b[0mexecute\u001b[0m\u001b[1;33m(\u001b[0m\u001b[0mCommand\u001b[0m\u001b[1;33m.\u001b[0m\u001b[0mGET\u001b[0m\u001b[1;33m,\u001b[0m \u001b[1;33m{\u001b[0m\u001b[1;34m'url'\u001b[0m\u001b[1;33m:\u001b[0m \u001b[0murl\u001b[0m\u001b[1;33m}\u001b[0m\u001b[1;33m)\u001b[0m\u001b[1;33m\u001b[0m\u001b[1;33m\u001b[0m\u001b[0m\n\u001b[0m\u001b[0;32m    334\u001b[0m \u001b[1;33m\u001b[0m\u001b[0m\n\u001b[0;32m    335\u001b[0m     \u001b[1;33m@\u001b[0m\u001b[0mproperty\u001b[0m\u001b[1;33m\u001b[0m\u001b[1;33m\u001b[0m\u001b[0m\n",
      "\u001b[1;32m~\\anaconda3\\lib\\site-packages\\selenium\\webdriver\\remote\\webdriver.py\u001b[0m in \u001b[0;36mexecute\u001b[1;34m(self, driver_command, params)\u001b[0m\n\u001b[0;32m    317\u001b[0m \u001b[1;33m\u001b[0m\u001b[0m\n\u001b[0;32m    318\u001b[0m         \u001b[0mparams\u001b[0m \u001b[1;33m=\u001b[0m \u001b[0mself\u001b[0m\u001b[1;33m.\u001b[0m\u001b[0m_wrap_value\u001b[0m\u001b[1;33m(\u001b[0m\u001b[0mparams\u001b[0m\u001b[1;33m)\u001b[0m\u001b[1;33m\u001b[0m\u001b[1;33m\u001b[0m\u001b[0m\n\u001b[1;32m--> 319\u001b[1;33m         \u001b[0mresponse\u001b[0m \u001b[1;33m=\u001b[0m \u001b[0mself\u001b[0m\u001b[1;33m.\u001b[0m\u001b[0mcommand_executor\u001b[0m\u001b[1;33m.\u001b[0m\u001b[0mexecute\u001b[0m\u001b[1;33m(\u001b[0m\u001b[0mdriver_command\u001b[0m\u001b[1;33m,\u001b[0m \u001b[0mparams\u001b[0m\u001b[1;33m)\u001b[0m\u001b[1;33m\u001b[0m\u001b[1;33m\u001b[0m\u001b[0m\n\u001b[0m\u001b[0;32m    320\u001b[0m         \u001b[1;32mif\u001b[0m \u001b[0mresponse\u001b[0m\u001b[1;33m:\u001b[0m\u001b[1;33m\u001b[0m\u001b[1;33m\u001b[0m\u001b[0m\n\u001b[0;32m    321\u001b[0m             \u001b[0mself\u001b[0m\u001b[1;33m.\u001b[0m\u001b[0merror_handler\u001b[0m\u001b[1;33m.\u001b[0m\u001b[0mcheck_response\u001b[0m\u001b[1;33m(\u001b[0m\u001b[0mresponse\u001b[0m\u001b[1;33m)\u001b[0m\u001b[1;33m\u001b[0m\u001b[1;33m\u001b[0m\u001b[0m\n",
      "\u001b[1;32m~\\anaconda3\\lib\\site-packages\\selenium\\webdriver\\remote\\remote_connection.py\u001b[0m in \u001b[0;36mexecute\u001b[1;34m(self, command, params)\u001b[0m\n\u001b[0;32m    372\u001b[0m         \u001b[0mdata\u001b[0m \u001b[1;33m=\u001b[0m \u001b[0mutils\u001b[0m\u001b[1;33m.\u001b[0m\u001b[0mdump_json\u001b[0m\u001b[1;33m(\u001b[0m\u001b[0mparams\u001b[0m\u001b[1;33m)\u001b[0m\u001b[1;33m\u001b[0m\u001b[1;33m\u001b[0m\u001b[0m\n\u001b[0;32m    373\u001b[0m         \u001b[0murl\u001b[0m \u001b[1;33m=\u001b[0m \u001b[1;34m'%s%s'\u001b[0m \u001b[1;33m%\u001b[0m \u001b[1;33m(\u001b[0m\u001b[0mself\u001b[0m\u001b[1;33m.\u001b[0m\u001b[0m_url\u001b[0m\u001b[1;33m,\u001b[0m \u001b[0mpath\u001b[0m\u001b[1;33m)\u001b[0m\u001b[1;33m\u001b[0m\u001b[1;33m\u001b[0m\u001b[0m\n\u001b[1;32m--> 374\u001b[1;33m         \u001b[1;32mreturn\u001b[0m \u001b[0mself\u001b[0m\u001b[1;33m.\u001b[0m\u001b[0m_request\u001b[0m\u001b[1;33m(\u001b[0m\u001b[0mcommand_info\u001b[0m\u001b[1;33m[\u001b[0m\u001b[1;36m0\u001b[0m\u001b[1;33m]\u001b[0m\u001b[1;33m,\u001b[0m \u001b[0murl\u001b[0m\u001b[1;33m,\u001b[0m \u001b[0mbody\u001b[0m\u001b[1;33m=\u001b[0m\u001b[0mdata\u001b[0m\u001b[1;33m)\u001b[0m\u001b[1;33m\u001b[0m\u001b[1;33m\u001b[0m\u001b[0m\n\u001b[0m\u001b[0;32m    375\u001b[0m \u001b[1;33m\u001b[0m\u001b[0m\n\u001b[0;32m    376\u001b[0m     \u001b[1;32mdef\u001b[0m \u001b[0m_request\u001b[0m\u001b[1;33m(\u001b[0m\u001b[0mself\u001b[0m\u001b[1;33m,\u001b[0m \u001b[0mmethod\u001b[0m\u001b[1;33m,\u001b[0m \u001b[0murl\u001b[0m\u001b[1;33m,\u001b[0m \u001b[0mbody\u001b[0m\u001b[1;33m=\u001b[0m\u001b[1;32mNone\u001b[0m\u001b[1;33m)\u001b[0m\u001b[1;33m:\u001b[0m\u001b[1;33m\u001b[0m\u001b[1;33m\u001b[0m\u001b[0m\n",
      "\u001b[1;32m~\\anaconda3\\lib\\site-packages\\selenium\\webdriver\\remote\\remote_connection.py\u001b[0m in \u001b[0;36m_request\u001b[1;34m(self, method, url, body)\u001b[0m\n\u001b[0;32m    395\u001b[0m \u001b[1;33m\u001b[0m\u001b[0m\n\u001b[0;32m    396\u001b[0m         \u001b[1;32mif\u001b[0m \u001b[0mself\u001b[0m\u001b[1;33m.\u001b[0m\u001b[0mkeep_alive\u001b[0m\u001b[1;33m:\u001b[0m\u001b[1;33m\u001b[0m\u001b[1;33m\u001b[0m\u001b[0m\n\u001b[1;32m--> 397\u001b[1;33m             \u001b[0mresp\u001b[0m \u001b[1;33m=\u001b[0m \u001b[0mself\u001b[0m\u001b[1;33m.\u001b[0m\u001b[0m_conn\u001b[0m\u001b[1;33m.\u001b[0m\u001b[0mrequest\u001b[0m\u001b[1;33m(\u001b[0m\u001b[0mmethod\u001b[0m\u001b[1;33m,\u001b[0m \u001b[0murl\u001b[0m\u001b[1;33m,\u001b[0m \u001b[0mbody\u001b[0m\u001b[1;33m=\u001b[0m\u001b[0mbody\u001b[0m\u001b[1;33m,\u001b[0m \u001b[0mheaders\u001b[0m\u001b[1;33m=\u001b[0m\u001b[0mheaders\u001b[0m\u001b[1;33m)\u001b[0m\u001b[1;33m\u001b[0m\u001b[1;33m\u001b[0m\u001b[0m\n\u001b[0m\u001b[0;32m    398\u001b[0m \u001b[1;33m\u001b[0m\u001b[0m\n\u001b[0;32m    399\u001b[0m             \u001b[0mstatuscode\u001b[0m \u001b[1;33m=\u001b[0m \u001b[0mresp\u001b[0m\u001b[1;33m.\u001b[0m\u001b[0mstatus\u001b[0m\u001b[1;33m\u001b[0m\u001b[1;33m\u001b[0m\u001b[0m\n",
      "\u001b[1;32m~\\anaconda3\\lib\\site-packages\\urllib3\\request.py\u001b[0m in \u001b[0;36mrequest\u001b[1;34m(self, method, url, fields, headers, **urlopen_kw)\u001b[0m\n\u001b[0;32m     78\u001b[0m         \u001b[1;32melse\u001b[0m\u001b[1;33m:\u001b[0m\u001b[1;33m\u001b[0m\u001b[1;33m\u001b[0m\u001b[0m\n\u001b[0;32m     79\u001b[0m             return self.request_encode_body(\n\u001b[1;32m---> 80\u001b[1;33m                 \u001b[0mmethod\u001b[0m\u001b[1;33m,\u001b[0m \u001b[0murl\u001b[0m\u001b[1;33m,\u001b[0m \u001b[0mfields\u001b[0m\u001b[1;33m=\u001b[0m\u001b[0mfields\u001b[0m\u001b[1;33m,\u001b[0m \u001b[0mheaders\u001b[0m\u001b[1;33m=\u001b[0m\u001b[0mheaders\u001b[0m\u001b[1;33m,\u001b[0m \u001b[1;33m**\u001b[0m\u001b[0murlopen_kw\u001b[0m\u001b[1;33m\u001b[0m\u001b[1;33m\u001b[0m\u001b[0m\n\u001b[0m\u001b[0;32m     81\u001b[0m             )\n\u001b[0;32m     82\u001b[0m \u001b[1;33m\u001b[0m\u001b[0m\n",
      "\u001b[1;32m~\\anaconda3\\lib\\site-packages\\urllib3\\request.py\u001b[0m in \u001b[0;36mrequest_encode_body\u001b[1;34m(self, method, url, fields, headers, encode_multipart, multipart_boundary, **urlopen_kw)\u001b[0m\n\u001b[0;32m    169\u001b[0m         \u001b[0mextra_kw\u001b[0m\u001b[1;33m.\u001b[0m\u001b[0mupdate\u001b[0m\u001b[1;33m(\u001b[0m\u001b[0murlopen_kw\u001b[0m\u001b[1;33m)\u001b[0m\u001b[1;33m\u001b[0m\u001b[1;33m\u001b[0m\u001b[0m\n\u001b[0;32m    170\u001b[0m \u001b[1;33m\u001b[0m\u001b[0m\n\u001b[1;32m--> 171\u001b[1;33m         \u001b[1;32mreturn\u001b[0m \u001b[0mself\u001b[0m\u001b[1;33m.\u001b[0m\u001b[0murlopen\u001b[0m\u001b[1;33m(\u001b[0m\u001b[0mmethod\u001b[0m\u001b[1;33m,\u001b[0m \u001b[0murl\u001b[0m\u001b[1;33m,\u001b[0m \u001b[1;33m**\u001b[0m\u001b[0mextra_kw\u001b[0m\u001b[1;33m)\u001b[0m\u001b[1;33m\u001b[0m\u001b[1;33m\u001b[0m\u001b[0m\n\u001b[0m",
      "\u001b[1;32m~\\anaconda3\\lib\\site-packages\\urllib3\\poolmanager.py\u001b[0m in \u001b[0;36murlopen\u001b[1;34m(self, method, url, redirect, **kw)\u001b[0m\n\u001b[0;32m    328\u001b[0m             \u001b[0mresponse\u001b[0m \u001b[1;33m=\u001b[0m \u001b[0mconn\u001b[0m\u001b[1;33m.\u001b[0m\u001b[0murlopen\u001b[0m\u001b[1;33m(\u001b[0m\u001b[0mmethod\u001b[0m\u001b[1;33m,\u001b[0m \u001b[0murl\u001b[0m\u001b[1;33m,\u001b[0m \u001b[1;33m**\u001b[0m\u001b[0mkw\u001b[0m\u001b[1;33m)\u001b[0m\u001b[1;33m\u001b[0m\u001b[1;33m\u001b[0m\u001b[0m\n\u001b[0;32m    329\u001b[0m         \u001b[1;32melse\u001b[0m\u001b[1;33m:\u001b[0m\u001b[1;33m\u001b[0m\u001b[1;33m\u001b[0m\u001b[0m\n\u001b[1;32m--> 330\u001b[1;33m             \u001b[0mresponse\u001b[0m \u001b[1;33m=\u001b[0m \u001b[0mconn\u001b[0m\u001b[1;33m.\u001b[0m\u001b[0murlopen\u001b[0m\u001b[1;33m(\u001b[0m\u001b[0mmethod\u001b[0m\u001b[1;33m,\u001b[0m \u001b[0mu\u001b[0m\u001b[1;33m.\u001b[0m\u001b[0mrequest_uri\u001b[0m\u001b[1;33m,\u001b[0m \u001b[1;33m**\u001b[0m\u001b[0mkw\u001b[0m\u001b[1;33m)\u001b[0m\u001b[1;33m\u001b[0m\u001b[1;33m\u001b[0m\u001b[0m\n\u001b[0m\u001b[0;32m    331\u001b[0m \u001b[1;33m\u001b[0m\u001b[0m\n\u001b[0;32m    332\u001b[0m         \u001b[0mredirect_location\u001b[0m \u001b[1;33m=\u001b[0m \u001b[0mredirect\u001b[0m \u001b[1;32mand\u001b[0m \u001b[0mresponse\u001b[0m\u001b[1;33m.\u001b[0m\u001b[0mget_redirect_location\u001b[0m\u001b[1;33m(\u001b[0m\u001b[1;33m)\u001b[0m\u001b[1;33m\u001b[0m\u001b[1;33m\u001b[0m\u001b[0m\n",
      "\u001b[1;32m~\\anaconda3\\lib\\site-packages\\urllib3\\connectionpool.py\u001b[0m in \u001b[0;36murlopen\u001b[1;34m(self, method, url, body, headers, retries, redirect, assert_same_host, timeout, pool_timeout, release_conn, chunked, body_pos, **response_kw)\u001b[0m\n\u001b[0;32m    670\u001b[0m                 \u001b[0mbody\u001b[0m\u001b[1;33m=\u001b[0m\u001b[0mbody\u001b[0m\u001b[1;33m,\u001b[0m\u001b[1;33m\u001b[0m\u001b[1;33m\u001b[0m\u001b[0m\n\u001b[0;32m    671\u001b[0m                 \u001b[0mheaders\u001b[0m\u001b[1;33m=\u001b[0m\u001b[0mheaders\u001b[0m\u001b[1;33m,\u001b[0m\u001b[1;33m\u001b[0m\u001b[1;33m\u001b[0m\u001b[0m\n\u001b[1;32m--> 672\u001b[1;33m                 \u001b[0mchunked\u001b[0m\u001b[1;33m=\u001b[0m\u001b[0mchunked\u001b[0m\u001b[1;33m,\u001b[0m\u001b[1;33m\u001b[0m\u001b[1;33m\u001b[0m\u001b[0m\n\u001b[0m\u001b[0;32m    673\u001b[0m             )\n\u001b[0;32m    674\u001b[0m \u001b[1;33m\u001b[0m\u001b[0m\n",
      "\u001b[1;32m~\\anaconda3\\lib\\site-packages\\urllib3\\connectionpool.py\u001b[0m in \u001b[0;36m_make_request\u001b[1;34m(self, conn, method, url, timeout, chunked, **httplib_request_kw)\u001b[0m\n\u001b[0;32m    419\u001b[0m                     \u001b[1;31m# Python 3 (including for exceptions like SystemExit).\u001b[0m\u001b[1;33m\u001b[0m\u001b[1;33m\u001b[0m\u001b[1;33m\u001b[0m\u001b[0m\n\u001b[0;32m    420\u001b[0m                     \u001b[1;31m# Otherwise it looks like a bug in the code.\u001b[0m\u001b[1;33m\u001b[0m\u001b[1;33m\u001b[0m\u001b[1;33m\u001b[0m\u001b[0m\n\u001b[1;32m--> 421\u001b[1;33m                     \u001b[0msix\u001b[0m\u001b[1;33m.\u001b[0m\u001b[0mraise_from\u001b[0m\u001b[1;33m(\u001b[0m\u001b[0me\u001b[0m\u001b[1;33m,\u001b[0m \u001b[1;32mNone\u001b[0m\u001b[1;33m)\u001b[0m\u001b[1;33m\u001b[0m\u001b[1;33m\u001b[0m\u001b[0m\n\u001b[0m\u001b[0;32m    422\u001b[0m         \u001b[1;32mexcept\u001b[0m \u001b[1;33m(\u001b[0m\u001b[0mSocketTimeout\u001b[0m\u001b[1;33m,\u001b[0m \u001b[0mBaseSSLError\u001b[0m\u001b[1;33m,\u001b[0m \u001b[0mSocketError\u001b[0m\u001b[1;33m)\u001b[0m \u001b[1;32mas\u001b[0m \u001b[0me\u001b[0m\u001b[1;33m:\u001b[0m\u001b[1;33m\u001b[0m\u001b[1;33m\u001b[0m\u001b[0m\n\u001b[0;32m    423\u001b[0m             \u001b[0mself\u001b[0m\u001b[1;33m.\u001b[0m\u001b[0m_raise_timeout\u001b[0m\u001b[1;33m(\u001b[0m\u001b[0merr\u001b[0m\u001b[1;33m=\u001b[0m\u001b[0me\u001b[0m\u001b[1;33m,\u001b[0m \u001b[0murl\u001b[0m\u001b[1;33m=\u001b[0m\u001b[0murl\u001b[0m\u001b[1;33m,\u001b[0m \u001b[0mtimeout_value\u001b[0m\u001b[1;33m=\u001b[0m\u001b[0mread_timeout\u001b[0m\u001b[1;33m)\u001b[0m\u001b[1;33m\u001b[0m\u001b[1;33m\u001b[0m\u001b[0m\n",
      "\u001b[1;32m~\\anaconda3\\lib\\site-packages\\urllib3\\packages\\six.py\u001b[0m in \u001b[0;36mraise_from\u001b[1;34m(value, from_value)\u001b[0m\n",
      "\u001b[1;32m~\\anaconda3\\lib\\site-packages\\urllib3\\connectionpool.py\u001b[0m in \u001b[0;36m_make_request\u001b[1;34m(self, conn, method, url, timeout, chunked, **httplib_request_kw)\u001b[0m\n\u001b[0;32m    414\u001b[0m                 \u001b[1;31m# Python 3\u001b[0m\u001b[1;33m\u001b[0m\u001b[1;33m\u001b[0m\u001b[1;33m\u001b[0m\u001b[0m\n\u001b[0;32m    415\u001b[0m                 \u001b[1;32mtry\u001b[0m\u001b[1;33m:\u001b[0m\u001b[1;33m\u001b[0m\u001b[1;33m\u001b[0m\u001b[0m\n\u001b[1;32m--> 416\u001b[1;33m                     \u001b[0mhttplib_response\u001b[0m \u001b[1;33m=\u001b[0m \u001b[0mconn\u001b[0m\u001b[1;33m.\u001b[0m\u001b[0mgetresponse\u001b[0m\u001b[1;33m(\u001b[0m\u001b[1;33m)\u001b[0m\u001b[1;33m\u001b[0m\u001b[1;33m\u001b[0m\u001b[0m\n\u001b[0m\u001b[0;32m    417\u001b[0m                 \u001b[1;32mexcept\u001b[0m \u001b[0mBaseException\u001b[0m \u001b[1;32mas\u001b[0m \u001b[0me\u001b[0m\u001b[1;33m:\u001b[0m\u001b[1;33m\u001b[0m\u001b[1;33m\u001b[0m\u001b[0m\n\u001b[0;32m    418\u001b[0m                     \u001b[1;31m# Remove the TypeError from the exception chain in\u001b[0m\u001b[1;33m\u001b[0m\u001b[1;33m\u001b[0m\u001b[1;33m\u001b[0m\u001b[0m\n",
      "\u001b[1;32m~\\anaconda3\\lib\\http\\client.py\u001b[0m in \u001b[0;36mgetresponse\u001b[1;34m(self)\u001b[0m\n\u001b[0;32m   1342\u001b[0m         \u001b[1;32mtry\u001b[0m\u001b[1;33m:\u001b[0m\u001b[1;33m\u001b[0m\u001b[1;33m\u001b[0m\u001b[0m\n\u001b[0;32m   1343\u001b[0m             \u001b[1;32mtry\u001b[0m\u001b[1;33m:\u001b[0m\u001b[1;33m\u001b[0m\u001b[1;33m\u001b[0m\u001b[0m\n\u001b[1;32m-> 1344\u001b[1;33m                 \u001b[0mresponse\u001b[0m\u001b[1;33m.\u001b[0m\u001b[0mbegin\u001b[0m\u001b[1;33m(\u001b[0m\u001b[1;33m)\u001b[0m\u001b[1;33m\u001b[0m\u001b[1;33m\u001b[0m\u001b[0m\n\u001b[0m\u001b[0;32m   1345\u001b[0m             \u001b[1;32mexcept\u001b[0m \u001b[0mConnectionError\u001b[0m\u001b[1;33m:\u001b[0m\u001b[1;33m\u001b[0m\u001b[1;33m\u001b[0m\u001b[0m\n\u001b[0;32m   1346\u001b[0m                 \u001b[0mself\u001b[0m\u001b[1;33m.\u001b[0m\u001b[0mclose\u001b[0m\u001b[1;33m(\u001b[0m\u001b[1;33m)\u001b[0m\u001b[1;33m\u001b[0m\u001b[1;33m\u001b[0m\u001b[0m\n",
      "\u001b[1;32m~\\anaconda3\\lib\\http\\client.py\u001b[0m in \u001b[0;36mbegin\u001b[1;34m(self)\u001b[0m\n\u001b[0;32m    304\u001b[0m         \u001b[1;31m# read until we get a non-100 response\u001b[0m\u001b[1;33m\u001b[0m\u001b[1;33m\u001b[0m\u001b[1;33m\u001b[0m\u001b[0m\n\u001b[0;32m    305\u001b[0m         \u001b[1;32mwhile\u001b[0m \u001b[1;32mTrue\u001b[0m\u001b[1;33m:\u001b[0m\u001b[1;33m\u001b[0m\u001b[1;33m\u001b[0m\u001b[0m\n\u001b[1;32m--> 306\u001b[1;33m             \u001b[0mversion\u001b[0m\u001b[1;33m,\u001b[0m \u001b[0mstatus\u001b[0m\u001b[1;33m,\u001b[0m \u001b[0mreason\u001b[0m \u001b[1;33m=\u001b[0m \u001b[0mself\u001b[0m\u001b[1;33m.\u001b[0m\u001b[0m_read_status\u001b[0m\u001b[1;33m(\u001b[0m\u001b[1;33m)\u001b[0m\u001b[1;33m\u001b[0m\u001b[1;33m\u001b[0m\u001b[0m\n\u001b[0m\u001b[0;32m    307\u001b[0m             \u001b[1;32mif\u001b[0m \u001b[0mstatus\u001b[0m \u001b[1;33m!=\u001b[0m \u001b[0mCONTINUE\u001b[0m\u001b[1;33m:\u001b[0m\u001b[1;33m\u001b[0m\u001b[1;33m\u001b[0m\u001b[0m\n\u001b[0;32m    308\u001b[0m                 \u001b[1;32mbreak\u001b[0m\u001b[1;33m\u001b[0m\u001b[1;33m\u001b[0m\u001b[0m\n",
      "\u001b[1;32m~\\anaconda3\\lib\\http\\client.py\u001b[0m in \u001b[0;36m_read_status\u001b[1;34m(self)\u001b[0m\n\u001b[0;32m    265\u001b[0m \u001b[1;33m\u001b[0m\u001b[0m\n\u001b[0;32m    266\u001b[0m     \u001b[1;32mdef\u001b[0m \u001b[0m_read_status\u001b[0m\u001b[1;33m(\u001b[0m\u001b[0mself\u001b[0m\u001b[1;33m)\u001b[0m\u001b[1;33m:\u001b[0m\u001b[1;33m\u001b[0m\u001b[1;33m\u001b[0m\u001b[0m\n\u001b[1;32m--> 267\u001b[1;33m         \u001b[0mline\u001b[0m \u001b[1;33m=\u001b[0m \u001b[0mstr\u001b[0m\u001b[1;33m(\u001b[0m\u001b[0mself\u001b[0m\u001b[1;33m.\u001b[0m\u001b[0mfp\u001b[0m\u001b[1;33m.\u001b[0m\u001b[0mreadline\u001b[0m\u001b[1;33m(\u001b[0m\u001b[0m_MAXLINE\u001b[0m \u001b[1;33m+\u001b[0m \u001b[1;36m1\u001b[0m\u001b[1;33m)\u001b[0m\u001b[1;33m,\u001b[0m \u001b[1;34m\"iso-8859-1\"\u001b[0m\u001b[1;33m)\u001b[0m\u001b[1;33m\u001b[0m\u001b[1;33m\u001b[0m\u001b[0m\n\u001b[0m\u001b[0;32m    268\u001b[0m         \u001b[1;32mif\u001b[0m \u001b[0mlen\u001b[0m\u001b[1;33m(\u001b[0m\u001b[0mline\u001b[0m\u001b[1;33m)\u001b[0m \u001b[1;33m>\u001b[0m \u001b[0m_MAXLINE\u001b[0m\u001b[1;33m:\u001b[0m\u001b[1;33m\u001b[0m\u001b[1;33m\u001b[0m\u001b[0m\n\u001b[0;32m    269\u001b[0m             \u001b[1;32mraise\u001b[0m \u001b[0mLineTooLong\u001b[0m\u001b[1;33m(\u001b[0m\u001b[1;34m\"status line\"\u001b[0m\u001b[1;33m)\u001b[0m\u001b[1;33m\u001b[0m\u001b[1;33m\u001b[0m\u001b[0m\n",
      "\u001b[1;32m~\\anaconda3\\lib\\socket.py\u001b[0m in \u001b[0;36mreadinto\u001b[1;34m(self, b)\u001b[0m\n\u001b[0;32m    587\u001b[0m         \u001b[1;32mwhile\u001b[0m \u001b[1;32mTrue\u001b[0m\u001b[1;33m:\u001b[0m\u001b[1;33m\u001b[0m\u001b[1;33m\u001b[0m\u001b[0m\n\u001b[0;32m    588\u001b[0m             \u001b[1;32mtry\u001b[0m\u001b[1;33m:\u001b[0m\u001b[1;33m\u001b[0m\u001b[1;33m\u001b[0m\u001b[0m\n\u001b[1;32m--> 589\u001b[1;33m                 \u001b[1;32mreturn\u001b[0m \u001b[0mself\u001b[0m\u001b[1;33m.\u001b[0m\u001b[0m_sock\u001b[0m\u001b[1;33m.\u001b[0m\u001b[0mrecv_into\u001b[0m\u001b[1;33m(\u001b[0m\u001b[0mb\u001b[0m\u001b[1;33m)\u001b[0m\u001b[1;33m\u001b[0m\u001b[1;33m\u001b[0m\u001b[0m\n\u001b[0m\u001b[0;32m    590\u001b[0m             \u001b[1;32mexcept\u001b[0m \u001b[0mtimeout\u001b[0m\u001b[1;33m:\u001b[0m\u001b[1;33m\u001b[0m\u001b[1;33m\u001b[0m\u001b[0m\n\u001b[0;32m    591\u001b[0m                 \u001b[0mself\u001b[0m\u001b[1;33m.\u001b[0m\u001b[0m_timeout_occurred\u001b[0m \u001b[1;33m=\u001b[0m \u001b[1;32mTrue\u001b[0m\u001b[1;33m\u001b[0m\u001b[1;33m\u001b[0m\u001b[0m\n",
      "\u001b[1;31mKeyboardInterrupt\u001b[0m: "
     ]
    }
   ],
   "source": [
    "for idx, url in enumerate(url_list, 1):\n",
    "#     next_button = driver.find_element_by_xpath('//div/a[@rel=\"next\"]')\n",
    "#     next_button = WebDriverWait(driver, 10).until(EC.presence_of_element_located((By.XPATH,'//div/a[@rel=\"next\"]')))\n",
    "#     link_to_next_review = next_button.get_attribute('href')\n",
    "#     print(link_to_next_review)\n",
    "#     driver.get(link_to_next_review)\n",
    "    driver.get(url)\n",
    "    print(f'coming to page {idx}')\n",
    "# WebDriverWait(driver, 10).until(EC.presence_of_all_elements_located((By.XPATH,'//div/a[@rel=\"next\"]')))"
   ]
  },
  {
   "cell_type": "markdown",
   "metadata": {},
   "source": [
    "### 7.customer names"
   ]
  },
  {
   "cell_type": "code",
   "execution_count": 111,
   "metadata": {},
   "outputs": [
    {
     "name": "stdout",
     "output_type": "stream",
     "text": [
      "Noah S.\n",
      "Ray W.\n",
      "JONATHAN T.\n",
      "Zack C.\n",
      "tim p.\n",
      "Emmanuel P.\n",
      "Curtis M.\n",
      "Sherman E.\n",
      "Darroch M.\n",
      "Stefan T.\n",
      "Colin S.\n",
      "William F.\n",
      "Kevin S.\n",
      "Roger N.\n",
      "Frank R.\n"
     ]
    }
   ],
   "source": [
    "# driver.get('https://www.bluenile.com/build-your-own-ring/petite-twist-diamond-engagement-ring-14k-white-gold_56003')\n",
    "# reviews = driver.find_elements_by_xpath('//div[@class=\"yotpo-header-element \"]/div')\n",
    "customer_list = driver.find_elements_by_xpath('//span[@class=\"y-label yotpo-user-name yotpo-font-bold pull-left\"]')\n",
    "customers = {}\n",
    "for c in customer_list[1:]:\n",
    "    customer = c.text\n",
    "    print(customer)"
   ]
  },
  {
   "cell_type": "markdown",
   "metadata": {},
   "source": [
    "### 8. review date"
   ]
  },
  {
   "cell_type": "code",
   "execution_count": 13,
   "metadata": {
    "scrolled": true
   },
   "outputs": [
    {
     "name": "stdout",
     "output_type": "stream",
     "text": [
      "07/23/20\n",
      "07/14/20\n",
      "07/14/20\n",
      "07/13/20\n",
      "07/01/20\n",
      "06/30/20\n",
      "06/29/20\n",
      "06/25/20\n",
      "06/18/20\n",
      "06/07/20\n",
      "06/04/20\n",
      "06/01/20\n",
      "05/27/20\n",
      "05/06/20\n",
      "04/24/20\n"
     ]
    }
   ],
   "source": [
    "date = driver.find_elements_by_xpath('//span[@class=\"y-label yotpo-review-date\"]')\n",
    "for i,d in enumerate(date[2:]):\n",
    "    d_ = d.text\n",
    "    if i%2 ==0:\n",
    "        print(d_)"
   ]
  },
  {
   "cell_type": "markdown",
   "metadata": {},
   "source": [
    "### 9.rating"
   ]
  },
  {
   "cell_type": "code",
   "execution_count": 134,
   "metadata": {},
   "outputs": [
    {
     "name": "stdout",
     "output_type": "stream",
     "text": [
      "5\n",
      "5\n",
      "5\n",
      "5\n",
      "5\n",
      "5\n",
      "5\n",
      "5\n",
      "5\n",
      "5\n",
      "5\n",
      "5\n",
      "5\n",
      "5\n",
      "5\n"
     ]
    }
   ],
   "source": [
    "# stars_list = driver.find_elements_by_class_name('sr-only')\n",
    "star_li = driver.find_elements_by_xpath('//span[@aria-label=\"Link to product page\"]')\n",
    "len(star_li)\n",
    "for s in star_li[-15:]:\n",
    "    stars = s.text\n",
    "    stars = int(stars[:1])\n",
    "    print(stars)"
   ]
  },
  {
   "cell_type": "code",
   "execution_count": 135,
   "metadata": {},
   "outputs": [
    {
     "name": "stdout",
     "output_type": "stream",
     "text": [
      "{'user_name': 'Noah S.', 'verified': 'Verified Buyer', 'stars': 5, 'date': '07/23/20', 'location': 'Palmyra, USA', 'expert_consulted': 'yes', 'recommended': 'Yes', 'why_buy': 'Quality'}\n",
      "{'user_name': 'Ray W.', 'verified': 'Verified Buyer', 'stars': 5, 'date': '07/14/20', 'location': 'Fitchburg, USA', 'expert_consulted': 'yes', 'recommended': 'Yes', 'why_buy': 'Value'}\n",
      "{'user_name': 'JONATHAN T.', 'verified': 'Verified Buyer', 'stars': 5, 'date': '07/14/20', 'location': 'SEVERANCE, USA', 'expert_consulted': 'yes', 'recommended': 'Yes', 'why_buy': 'Value'}\n",
      "{'user_name': 'Zack C.', 'verified': 'Verified Buyer', 'stars': 5, 'date': '07/13/20', 'location': 'Parker, USA', 'expert_consulted': 'yes', 'recommended': 'Yes', 'why_buy': 'Value'}\n",
      "{'user_name': 'Zack C.', 'verified': 'Verified Buyer', 'stars': 5, 'date': '07/13/20', 'location': 'Parker, USA', 'expert_consulted': 'yes', 'recommended': 'Yes', 'why_buy': 'Value'}\n",
      "{'user_name': 'tim p.', 'verified': 'Verified Buyer', 'stars': 5, 'date': '07/01/20', 'location': 'Rohester, USA', 'expert_consulted': 'yes', 'recommended': 'Yes', 'why_buy': 'Quality'}\n",
      "{'user_name': 'Emmanuel P.', 'verified': 'Verified Buyer', 'stars': 5, 'date': '06/30/20', 'location': 'ELIZABETH, USA', 'expert_consulted': 'yes', 'recommended': 'Yes', 'why_buy': 'Quality'}\n",
      "{'user_name': 'Curtis M.', 'verified': 'Verified Buyer', 'stars': 5, 'date': '06/29/20', 'location': 'Hamilton, USA', 'expert_consulted': 'yes', 'recommended': 'Yes', 'why_buy': 'GIA graded diamonds'}\n",
      "{'user_name': 'Sherman E.', 'verified': 'Verified Buyer', 'stars': 5, 'date': '06/25/20', 'location': 'JERSEY CITY, USA', 'expert_consulted': 'yes', 'recommended': 'Yes', 'why_buy': 'Value'}\n",
      "{'user_name': 'Darroch M.', 'verified': 'Verified Buyer', 'stars': 5, 'date': '06/18/20', 'location': None, 'expert_consulted': None, 'recommended': 'Yes', 'why_buy': 'Selection'}\n",
      "{'user_name': 'Stefan T.', 'verified': 'Verified Buyer', 'stars': 5, 'date': '06/07/20', 'location': 'MONROE, USA', 'expert_consulted': 'yes', 'recommended': 'Yes', 'why_buy': 'Other'}\n",
      "{'user_name': 'Colin S.', 'verified': 'Verified Buyer', 'stars': 5, 'date': '06/04/20', 'location': 'Quarryville, USA', 'expert_consulted': 'yes', 'recommended': 'Yes', 'why_buy': 'Quality'}\n",
      "{'user_name': 'William F.', 'verified': 'Verified Buyer', 'stars': 5, 'date': '06/01/20', 'location': 'MOUNT EPHRAIM, USA', 'expert_consulted': 'yes', 'recommended': 'Yes', 'why_buy': 'Value'}\n",
      "{'user_name': 'Kevin S.', 'verified': 'Verified Buyer', 'stars': 5, 'date': '05/27/20', 'location': 'Yucca Valley, USA', 'expert_consulted': 'yes', 'recommended': 'Yes', 'why_buy': 'Quality'}\n",
      "{'user_name': 'Kevin S.', 'verified': 'Verified Buyer', 'stars': 5, 'date': '05/27/20', 'location': 'Yucca Valley, USA', 'expert_consulted': 'yes', 'recommended': 'Yes', 'why_buy': 'Quality'}\n",
      "{'user_name': 'Roger N.', 'verified': 'Verified Buyer', 'stars': 5, 'date': '05/06/20', 'location': 'Farmington, USA', 'expert_consulted': 'yes', 'recommended': 'Yes', 'why_buy': 'Quality'}\n",
      "{'user_name': 'Frank R.', 'verified': 'Verified Buyer', 'stars': 5, 'date': '04/24/20', 'location': 'EMERSON, USA', 'expert_consulted': 'yes', 'recommended': 'Yes', 'why_buy': 'Selection'}\n",
      "{'user_name': 'Frank R.', 'verified': 'Verified Buyer', 'stars': 5, 'date': '04/24/20', 'location': 'EMERSON, USA', 'expert_consulted': 'yes', 'recommended': 'Yes', 'why_buy': 'Selection'}\n"
     ]
    }
   ],
   "source": [
    "driver.get('https://www.bluenile.com/build-your-own-ring/petite-twist-diamond-engagement-ring-14k-white-gold_56003?yoReviewsPage=1')\n",
    "reviews = driver.find_elements_by_xpath('//div[@class=\"yotpo-reviews yotpo-active\"]/div')\n",
    "reviews = reviews[3:]\n",
    "item = {}\n",
    "# for review in reviews:\n",
    "#     print(review.text)\n",
    "\n",
    "for review in reviews:\n",
    "    question_list = review.find_elements_by_class_name('yotpo-user-field')\n",
    "    row_dict = {}\n",
    "    for question_ans in question_list:\n",
    "        key = question_ans.find_element_by_xpath('./span[1]').text\n",
    "        value = question_ans.find_element_by_xpath('./span[2]').text\n",
    "        if not key:\n",
    "            continue\n",
    "\n",
    "        row_dict[key.replace(':', '')] = value\n",
    "            \n",
    "        user_name = review.find_element_by_xpath('.//span[@class=\"y-label yotpo-user-name yotpo-font-bold pull-left\"]').text\n",
    "        verified = review.find_element_by_xpath('.//span[@class=\"y-label yotpo-user-title yotpo-action-hover\"]').text\n",
    "        stars = review.find_element_by_xpath('.//span[@aria-label=\"Link to product page\"]').text\n",
    "        stars = int(stars[:1])\n",
    "        date = review.find_element_by_xpath('.//span[@class=\"y-label yotpo-review-date\"]').text\n",
    "        review_text = review.find_element_by_xpath\n",
    "            \n",
    "        item['user_name'] = user_name\n",
    "        item['verified'] = verified\n",
    "        item['stars'] = stars\n",
    "        item['date'] = date\n",
    "        item['location'] = row_dict.get('Location')\n",
    "        item['expert_consulted'] = row_dict.get('Blue Nile jewelry expert consulted')\n",
    "        if row_dict.get('Recommendation'):\n",
    "            item['recommended'] = row_dict.get('Recommendation')\n",
    "        else:\n",
    "            item['recommended'] = row_dict.get('Recommend')\n",
    "        if row_dict.get('Why buy a Blue Nile Diamond'):\n",
    "            item['why_buy'] = row_dict.get('Why buy a Blue Nile Diamond')\n",
    "        else:\n",
    "            item['why_buy'] = row_dict.get('Reason')\n",
    "    print(item)    \n",
    "#     csv_writer.writerow(item.values())\n"
   ]
  },
  {
   "cell_type": "code",
   "execution_count": 80,
   "metadata": {
    "scrolled": true
   },
   "outputs": [
    {
     "data": {
      "text/plain": [
       "{'Recommendation': 'Yes',\n",
       " 'Reason': 'Value',\n",
       " 'Sweepstakes Opt-In': 'Yes',\n",
       " 'Blue Nile jewelry expert consulted': 'no',\n",
       " 'Location': 'Woodstock, USA',\n",
       " 'Recommend': 'Yes',\n",
       " 'Why buy a Blue Nile Diamond': 'Value'}"
      ]
     },
     "execution_count": 80,
     "metadata": {},
     "output_type": "execute_result"
    }
   ],
   "source": [
    "q_a_dict"
   ]
  },
  {
   "cell_type": "code",
   "execution_count": null,
   "metadata": {},
   "outputs": [],
   "source": [
    "recommend = q_a_dict.get('Recommend')\n",
    "why_buy = q_a_dict.get('Why buy a Blue Nile Diamond')\n",
    "location = q_a_dict.get('Location')"
   ]
  },
  {
   "cell_type": "code",
   "execution_count": 76,
   "metadata": {},
   "outputs": [
    {
     "name": "stdout",
     "output_type": "stream",
     "text": [
      "0:\n",
      "1:\n",
      "2:\n",
      "3:M\n",
      "4:Michael H.\n",
      "Verified Buyer\n",
      "5 star rating\n",
      "Blue Nile jewelry expert consulted:\n",
      "Yes\n",
      "CHURCHVILLE, NY\n",
      "5:07/13/16\n",
      "6:A\n",
      "7:Anonymous\n",
      "Verified Buyer\n",
      "5 star rating\n",
      "Cape Charles, VA\n",
      "8:07/11/16\n",
      "9:J\n",
      "10:Jacob\n",
      "Verified Buyer\n",
      "5 star rating\n",
      "Blue Nile jewelry expert consulted:\n",
      "no\n",
      "Ponca City, USA\n",
      "11:07/08/16\n",
      "12:A\n",
      "13:Anonymous\n",
      "Verified Buyer\n",
      "5 star rating\n",
      "Roswell, GA\n",
      "14:06/08/16\n",
      "15:A\n",
      "16:Anonymous\n",
      "Verified Buyer\n",
      "4 star rating\n",
      "Blue Nile jewelry expert consulted:\n",
      "Yes\n",
      "HOUSTON, TX\n",
      "17:12/28/15\n",
      "18:M\n",
      "19:Marco\n",
      "Verified Buyer\n",
      "4 star rating\n",
      "Mexico, Mexico\n",
      "20:12/17/15\n"
     ]
    }
   ],
   "source": [
    "review_chuck = driver.find_elements_by_class_name(\"yotpo-header-element \")\n",
    "for line,review in enumerate(review_chuck):\n",
    "    content = review.text\n",
    "    print(f'{line}:{content}')"
   ]
  },
  {
   "cell_type": "code",
   "execution_count": null,
   "metadata": {},
   "outputs": [],
   "source": []
  }
 ],
 "metadata": {
  "kernelspec": {
   "display_name": "Python 3",
   "language": "python",
   "name": "python3"
  },
  "language_info": {
   "codemirror_mode": {
    "name": "ipython",
    "version": 3
   },
   "file_extension": ".py",
   "mimetype": "text/x-python",
   "name": "python",
   "nbconvert_exporter": "python",
   "pygments_lexer": "ipython3",
   "version": "3.7.6"
  }
 },
 "nbformat": 4,
 "nbformat_minor": 4
}
