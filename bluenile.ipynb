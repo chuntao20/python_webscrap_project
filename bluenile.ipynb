{
 "cells": [
  {
   "cell_type": "code",
   "execution_count": 1,
   "metadata": {},
   "outputs": [],
   "source": [
    "from selenium import webdriver\n",
    "from selenium.webdriver.common.by import By\n",
    "from selenium.webdriver.support.ui import WebDriverWait\n",
    "from selenium.webdriver.support import expected_conditions as EC\n",
    "import csv\n",
    "import re\n",
    "import time"
   ]
  },
  {
   "cell_type": "code",
   "execution_count": 33,
   "metadata": {},
   "outputs": [],
   "source": [
    "driver = webdriver.Chrome(r'C:\\Users\\Chun\\chromedriver_win32 (1)\\chromedriver.exe')\n",
    "driver.get(\"https://www.bluenile.com/build-your-own-ring/settings\")"
   ]
  },
  {
   "cell_type": "code",
   "execution_count": 34,
   "metadata": {},
   "outputs": [],
   "source": [
    "SCROLL_PAUSE_TIME = 0.5\n",
    "\n",
    "\n",
    "while True:\n",
    "\n",
    "    # Get scroll height\n",
    "    ### This is the difference. Moving this *inside* the loop\n",
    "    ### means that it checks if scrollTo is still scrolling \n",
    "    last_height = driver.execute_script(\"return document.body.scrollHeight\")\n",
    "\n",
    "    # Scroll down to bottom\n",
    "    driver.execute_script(\"window.scrollTo(0, document.body.scrollHeight);\")\n",
    "\n",
    "    # Wait to load page\n",
    "    time.sleep(SCROLL_PAUSE_TIME)\n",
    "\n",
    "    # Calculate new scroll height and compare with last scroll height\n",
    "    new_height = driver.execute_script(\"return document.body.scrollHeight\")\n",
    "    if new_height == last_height:\n",
    "\n",
    "        # try again (can be removed)\n",
    "        driver.execute_script(\"window.scrollTo(0, document.body.scrollHeight);\")\n",
    "\n",
    "        # Wait to load page\n",
    "        time.sleep(SCROLL_PAUSE_TIME)\n",
    "\n",
    "        # Calculate new scroll height and compare with last scroll height\n",
    "        new_height = driver.execute_script(\"return document.body.scrollHeight\")\n",
    "\n",
    "        # check if the page height has remained the same\n",
    "        if new_height == last_height:\n",
    "            # if so, you are done\n",
    "            break\n",
    "        # if not, move on to the next loop\n",
    "        else:\n",
    "            last_height = new_height\n",
    "            continue"
   ]
  },
  {
   "cell_type": "code",
   "execution_count": 35,
   "metadata": {},
   "outputs": [],
   "source": [
    "links = driver.find_elements_by_class_name('related-metals')\n",
    "\n",
    "link_list = []\n",
    "for link in links:\n",
    "    item_link = link.get_attribute(\"href\")\n",
    "    link_list.append(item_link)"
   ]
  },
  {
   "cell_type": "code",
   "execution_count": 36,
   "metadata": {},
   "outputs": [],
   "source": [
    "# for link in link_list:\n",
    "#     link.click()\n",
    "\n",
    "link1 = link_list[0]\n",
    "driver.get(link1)"
   ]
  },
  {
   "cell_type": "code",
   "execution_count": 41,
   "metadata": {},
   "outputs": [
    {
     "name": "stdout",
     "output_type": "stream",
     "text": [
      "Petite Twist Diamond Engagement Ring\n"
     ]
    }
   ],
   "source": [
    "style = driver.find_element_by_class_name('title').text\n",
    "print(style)"
   ]
  },
  {
   "cell_type": "code",
   "execution_count": 42,
   "metadata": {},
   "outputs": [
    {
     "name": "stdout",
     "output_type": "stream",
     "text": [
      "14k White Gold (1/10 ct. tw.)\n"
     ]
    }
   ],
   "source": [
    "metal = driver.find_element_by_class_name('subtitle').text\n",
    "print(metal)"
   ]
  },
  {
   "cell_type": "code",
   "execution_count": 76,
   "metadata": {},
   "outputs": [
    {
     "name": "stdout",
     "output_type": "stream",
     "text": [
      "1 10\n",
      "0.1\n"
     ]
    }
   ],
   "source": [
    "s = re.search('(.+)\\((.*)ct. tw.\\)',metal)\n",
    "try:\n",
    "    weight = s.group(2)\n",
    "    a,b = re.search('(\\d)\\/(\\d+)', weight).groups()\n",
    "    side_weight = int(a)/int(b)\n",
    "except:\n",
    "    side_weight = 0\n",
    "    \n",
    "print(side_weight)"
   ]
  },
  {
   "cell_type": "code",
   "execution_count": null,
   "metadata": {},
   "outputs": [],
   "source": []
  }
 ],
 "metadata": {
  "kernelspec": {
   "display_name": "Python 3",
   "language": "python",
   "name": "python3"
  },
  "language_info": {
   "codemirror_mode": {
    "name": "ipython",
    "version": 3
   },
   "file_extension": ".py",
   "mimetype": "text/x-python",
   "name": "python",
   "nbconvert_exporter": "python",
   "pygments_lexer": "ipython3",
   "version": "3.7.6"
  }
 },
 "nbformat": 4,
 "nbformat_minor": 4
}
