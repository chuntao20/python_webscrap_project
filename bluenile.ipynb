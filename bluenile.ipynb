{
 "cells": [
  {
   "cell_type": "code",
   "execution_count": 1,
   "metadata": {},
   "outputs": [],
   "source": [
    "from selenium import webdriver\n",
    "from selenium.webdriver.common.by import By\n",
    "from selenium.webdriver.support.ui import WebDriverWait\n",
    "from selenium.webdriver.support import expected_conditions as EC\n",
    "import csv\n",
    "import re\n",
    "import time"
   ]
  },
  {
   "cell_type": "code",
   "execution_count": 2,
   "metadata": {},
   "outputs": [],
   "source": [
    "driver = webdriver.Chrome(r'C:\\Users\\Chun\\chromedriver_win32 (1)\\chromedriver.exe')\n",
    "driver.get(\"https://www.bluenile.com/build-your-own-ring/settings\")"
   ]
  },
  {
   "cell_type": "code",
   "execution_count": 3,
   "metadata": {},
   "outputs": [],
   "source": [
    "SCROLL_PAUSE_TIME = 0.5\n",
    "\n",
    "\n",
    "while True:\n",
    "\n",
    "    # Get scroll height\n",
    "    ### This is the difference. Moving this *inside* the loop\n",
    "    ### means that it checks if scrollTo is still scrolling \n",
    "    last_height = driver.execute_script(\"return document.body.scrollHeight\")\n",
    "\n",
    "    # Scroll down to bottom\n",
    "    driver.execute_script(\"window.scrollTo(0, document.body.scrollHeight);\")\n",
    "\n",
    "    # Wait to load page\n",
    "    time.sleep(SCROLL_PAUSE_TIME)\n",
    "\n",
    "    # Calculate new scroll height and compare with last scroll height\n",
    "    new_height = driver.execute_script(\"return document.body.scrollHeight\")\n",
    "    if new_height == last_height:\n",
    "\n",
    "        # try again (can be removed)\n",
    "        driver.execute_script(\"window.scrollTo(0, document.body.scrollHeight);\")\n",
    "\n",
    "        # Wait to load page\n",
    "        time.sleep(SCROLL_PAUSE_TIME)\n",
    "\n",
    "        # Calculate new scroll height and compare with last scroll height\n",
    "        new_height = driver.execute_script(\"return document.body.scrollHeight\")\n",
    "\n",
    "        # check if the page height has remained the same\n",
    "        if new_height == last_height:\n",
    "            # if so, you are done\n",
    "            break\n",
    "        # if not, move on to the next loop\n",
    "        else:\n",
    "            last_height = new_height\n",
    "            continue"
   ]
  },
  {
   "cell_type": "code",
   "execution_count": 4,
   "metadata": {},
   "outputs": [],
   "source": [
    "links = driver.find_elements_by_class_name('related-metals')\n",
    "\n",
    "link_list = []\n",
    "for link in links:\n",
    "    item_link = link.get_attribute(\"href\")\n",
    "    link_list.append(item_link)"
   ]
  },
  {
   "cell_type": "code",
   "execution_count": 5,
   "metadata": {},
   "outputs": [],
   "source": [
    "# for link in link_list:\n",
    "#     link.click()\n",
    "\n",
    "link1 = link_list[0]\n",
    "driver.get(link1)"
   ]
  },
  {
   "cell_type": "markdown",
   "metadata": {},
   "source": [
    "### 1.style"
   ]
  },
  {
   "cell_type": "code",
   "execution_count": 6,
   "metadata": {},
   "outputs": [
    {
     "name": "stdout",
     "output_type": "stream",
     "text": [
      "Petite Twist Diamond Engagement Ring\n"
     ]
    }
   ],
   "source": [
    "style = driver.find_element_by_class_name('title').text\n",
    "print(style)"
   ]
  },
  {
   "cell_type": "markdown",
   "metadata": {},
   "source": [
    "### 2.metal\n",
    "### 3.side stone weight"
   ]
  },
  {
   "cell_type": "code",
   "execution_count": 19,
   "metadata": {},
   "outputs": [
    {
     "name": "stdout",
     "output_type": "stream",
     "text": [
      "14k White Gold (1/10 ct. tw.)\n"
     ]
    }
   ],
   "source": [
    "band = driver.find_element_by_class_name('subtitle').text\n",
    "print(band)"
   ]
  },
  {
   "cell_type": "code",
   "execution_count": 21,
   "metadata": {},
   "outputs": [
    {
     "name": "stdout",
     "output_type": "stream",
     "text": [
      "14k White Gold \n",
      "0.1\n"
     ]
    }
   ],
   "source": [
    "s = re.search('(.+)\\((.*)ct. tw.\\)',band)\n",
    "try:\n",
    "    weight = s.group(2)\n",
    "    a,b = re.search('(\\d)\\/(\\d+)', weight).groups()\n",
    "    side_weight = int(a)/int(b)\n",
    "except:\n",
    "    side_weight = 0\n",
    "    \n",
    "metal = s.group(1)\n",
    "print(metal)\n",
    "print(side_weight)"
   ]
  },
  {
   "cell_type": "markdown",
   "metadata": {},
   "source": [
    "### 4. price"
   ]
  },
  {
   "cell_type": "code",
   "execution_count": 12,
   "metadata": {},
   "outputs": [
    {
     "data": {
      "text/plain": [
       "1190"
      ]
     },
     "execution_count": 12,
     "metadata": {},
     "output_type": "execute_result"
    }
   ],
   "source": [
    "price = driver.find_element_by_class_name('price-label').text\n",
    "price = int(price.replace('$','').replace(',',''))\n",
    "price"
   ]
  },
  {
   "cell_type": "markdown",
   "metadata": {},
   "source": [
    "### 5.avearge rating"
   ]
  },
  {
   "cell_type": "code",
   "execution_count": 16,
   "metadata": {},
   "outputs": [
    {
     "data": {
      "text/plain": [
       "4.8"
      ]
     },
     "execution_count": 16,
     "metadata": {},
     "output_type": "execute_result"
    }
   ],
   "source": [
    "avg_rating = driver.find_element_by_class_name('sr-only').text[:3]\n",
    "avg_rating = float(avg_rating)\n",
    "avg_rating"
   ]
  },
  {
   "cell_type": "markdown",
   "metadata": {},
   "source": [
    "### 6.numer of reviews"
   ]
  },
  {
   "cell_type": "code",
   "execution_count": 25,
   "metadata": {},
   "outputs": [
    {
     "data": {
      "text/plain": [
       "156"
      ]
     },
     "execution_count": 25,
     "metadata": {},
     "output_type": "execute_result"
    }
   ],
   "source": [
    "num_review = driver.find_element_by_class_name('reviews-qa-labels-container').text\n",
    "num_review = int(re.search('(\\d+) Reviews',num_review).group(1))\n",
    "num_review"
   ]
  },
  {
   "cell_type": "markdown",
   "metadata": {},
   "source": [
    "### 7.customer names"
   ]
  },
  {
   "cell_type": "code",
   "execution_count": 64,
   "metadata": {},
   "outputs": [
    {
     "name": "stdout",
     "output_type": "stream",
     "text": [
      "Tutun G.\n",
      "Brian N.\n",
      "Dori M.\n",
      "Andrew V.\n",
      "Thomas B.\n",
      "Jason L.\n",
      "Delon B.\n",
      "Gavin W.\n",
      "Yehia S.\n",
      "Shady B.\n",
      "Austin L.\n",
      "Brian C.\n",
      "Matthew D.\n",
      "Pamela Y.\n",
      "Gabriel B.\n"
     ]
    }
   ],
   "source": [
    "customer_list = driver.find_elements_by_xpath('//div/span[@class=\"y-label yotpo-user-name yotpo-font-bold pull-left\"]')\n",
    "customers = {}\n",
    "for c in customer_list[1:]:\n",
    "    customer = c.text\n",
    "    print(customer)"
   ]
  },
  {
   "cell_type": "markdown",
   "metadata": {},
   "source": [
    "### 8. review date"
   ]
  },
  {
   "cell_type": "code",
   "execution_count": 66,
   "metadata": {
    "scrolled": true
   },
   "outputs": [
    {
     "name": "stdout",
     "output_type": "stream",
     "text": [
      "01/30/20\n",
      "01/29/20\n",
      "01/24/20\n",
      "01/17/20\n",
      "01/11/20\n",
      "01/11/20\n",
      "01/07/20\n",
      "01/05/20\n",
      "01/03/20\n",
      "12/31/19\n",
      "12/30/19\n",
      "12/30/19\n",
      "12/18/19\n",
      "12/13/19\n",
      "12/12/19\n"
     ]
    }
   ],
   "source": [
    "date = driver.find_elements_by_xpath('//span[@class=\"y-label yotpo-review-date\"]')\n",
    "for i,d in enumerate(date[2:]):\n",
    "    d_ = d.text\n",
    "    if i%2 ==0:\n",
    "        print(d_)"
   ]
  },
  {
   "cell_type": "markdown",
   "metadata": {},
   "source": [
    "### 9.rating"
   ]
  },
  {
   "cell_type": "code",
   "execution_count": 78,
   "metadata": {},
   "outputs": [
    {
     "name": "stdout",
     "output_type": "stream",
     "text": [
      "5\n",
      "5\n",
      "5\n",
      "5\n",
      "5\n",
      "5\n",
      "5\n",
      "5\n",
      "5\n",
      "5\n",
      "5\n",
      "4\n",
      "5\n",
      "5\n",
      "5\n"
     ]
    }
   ],
   "source": [
    "stars_list = driver.find_elements_by_class_name('sr-only')\n",
    "star_li = driver.find_elements_by_xpath('//span[@aria-label=\"Link to product page\"]')\n",
    "len(star_li)\n",
    "for s in star_li[-15:]:\n",
    "    stars = s.text\n",
    "    stars = int(stars[:1])\n",
    "    print(stars)"
   ]
  },
  {
   "cell_type": "code",
   "execution_count": null,
   "metadata": {},
   "outputs": [],
   "source": []
  }
 ],
 "metadata": {
  "kernelspec": {
   "display_name": "Python 3",
   "language": "python",
   "name": "python3"
  },
  "language_info": {
   "codemirror_mode": {
    "name": "ipython",
    "version": 3
   },
   "file_extension": ".py",
   "mimetype": "text/x-python",
   "name": "python",
   "nbconvert_exporter": "python",
   "pygments_lexer": "ipython3",
   "version": "3.7.6"
  }
 },
 "nbformat": 4,
 "nbformat_minor": 4
}
